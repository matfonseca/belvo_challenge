{
 "cells": [
  {
   "cell_type": "code",
   "execution_count": 1,
   "id": "60410782",
   "metadata": {},
   "outputs": [],
   "source": [
    "from dotenv import load_dotenv\n",
    "import os\n",
    "import sys\n",
    "\n",
    "sys.path.append('../')\n",
    "\n",
    "load_dotenv()\n",
    "\n",
    "config = {\n",
    "    \"base_url\": os.getenv(\"BASE_URL\"),\n",
    "    \"client_id\": os.getenv(\"CLIENT_ID\"),\n",
    "    \"client_secret\": os.getenv(\"CLIENT_SECRET\")\n",
    "}\n"
   ]
  },
  {
   "cell_type": "code",
   "execution_count": 2,
   "id": "70ae7d00",
   "metadata": {},
   "outputs": [],
   "source": [
    "import re\n",
    "\n",
    "def get_page(url):\n",
    "    \"\"\"\n",
    "    Devuelve el número de página de una URL.\n",
    "    \"\"\"\n",
    "    match = re.search(r'page=(\\d+)', url)\n",
    "    if match:\n",
    "        return int(match.group(1))\n"
   ]
  },
  {
   "cell_type": "code",
   "execution_count": 4,
   "id": "ce692391",
   "metadata": {},
   "outputs": [],
   "source": [
    "from services.employment_records_mx_service import EmploymentRecordsMXService\n",
    "\n",
    "employment_records_mx_service = EmploymentRecordsMXService(config)\n",
    "all_employment_records = []\n",
    "link_id = 'b73b86ce-c6cc-4b66-a8c8-f37b76cd7fa9'\n",
    "\n",
    "page= 1\n",
    "\n",
    "while page:\n",
    "    employment_records = employment_records_mx_service.get_employment_records(link_id,page)\n",
    "    all_employment_records.extend(employment_records['results'])\n",
    "    page = get_page(employment_records['next']) if employment_records['next'] else None"
   ]
  },
  {
   "cell_type": "code",
   "execution_count": 5,
   "id": "5d5b7c4f",
   "metadata": {},
   "outputs": [
    {
     "data": {
      "text/plain": [
       "1"
      ]
     },
     "execution_count": 5,
     "metadata": {},
     "output_type": "execute_result"
    }
   ],
   "source": [
    "len(all_employment_records)"
   ]
  },
  {
   "cell_type": "code",
   "execution_count": 7,
   "id": "5144fbeb",
   "metadata": {},
   "outputs": [],
   "source": [
    "record_id = all_employment_records[0]['id']"
   ]
  },
  {
   "cell_type": "code",
   "execution_count": 8,
   "id": "c89d8420",
   "metadata": {},
   "outputs": [],
   "source": [
    "record_details = employment_records_mx_service.get_employment_records_details(record_id)"
   ]
  },
  {
   "cell_type": "code",
   "execution_count": 9,
   "id": "dbbd1c5a",
   "metadata": {},
   "outputs": [
    {
     "data": {
      "text/plain": [
       "{'id': '5d0139c8-286f-4b1d-bbc3-5fa881885c4c',\n",
       " 'link': 'b73b86ce-c6cc-4b66-a8c8-f37b76cd7fa9',\n",
       " 'created_at': '2025-07-31T11:57:11.989755Z',\n",
       " 'files': None,\n",
       " 'report_date': '2025-07-31',\n",
       " 'collected_at': '2025-07-31T11:57:11.249563Z',\n",
       " 'personal_data': {'email': 'patricianaranjo@example.org',\n",
       "  'last_name': 'Robles Quintana',\n",
       "  'birth_date': '1991-02-18',\n",
       "  'first_name': 'Joaquín',\n",
       "  'document_ids': [{'document_type': 'NSS', 'document_number': '70041684898'},\n",
       "   {'document_type': 'CURP', 'document_number': 'BLPM951331IONVGR54'}],\n",
       "  'entitlements': {'status': 'UNKNOWN',\n",
       "   'valid_until': None,\n",
       "   'entitled_to_company_benefits': False,\n",
       "   'entitled_to_health_insurance': False},\n",
       "  'official_name': 'Joaquín Robles Quintana'},\n",
       " 'employment_records': [{'state': 'DISTRITO FEDERAL',\n",
       "   'currency': 'MXN',\n",
       "   'employer': 'Laboratorios Sarabia-Lemus',\n",
       "   'end_date': '2010-07-29',\n",
       "   'start_date': '1997-09-29',\n",
       "   'employer_id': '165-LAB-23981-CDMX',\n",
       "   'collected_at': '2025-07-31T11:57:11.249157Z',\n",
       "   'monthly_salary': 26469.5,\n",
       "   'weeks_employed': 669,\n",
       "   'most_recent_base_salary': 870.23,\n",
       "   'employment_status_updates': [{'event': 'HIRED',\n",
       "     'base_salary': 822.21,\n",
       "     'update_date': '1997-09-29'},\n",
       "    {'event': 'SALARY_MODIFICATION',\n",
       "     'base_salary': 870.23,\n",
       "     'update_date': '2005-06-17'},\n",
       "    {'event': 'SALARY_MODIFICATION',\n",
       "     'base_salary': 887.99,\n",
       "     'update_date': '2009-01-12'},\n",
       "    {'event': 'DISMISSED_RESIGNED',\n",
       "     'base_salary': 870.23,\n",
       "     'update_date': '2010-07-29'}]}],\n",
       " 'internal_identification': 'BLPM951331IONVGR54',\n",
       " 'social_security_summary': {'weeks_redeemed': None,\n",
       "  'weeks_reinstated': None,\n",
       "  'weeks_contributed': 669}}"
      ]
     },
     "execution_count": 9,
     "metadata": {},
     "output_type": "execute_result"
    }
   ],
   "source": [
    "record_details"
   ]
  },
  {
   "cell_type": "markdown",
   "id": "98befb83",
   "metadata": {},
   "source": [
    "# Mexican Employment Records EDA Summary\n",
    "\n",
    "## Dataset Overview\n",
    "- **Total Records**: 1 employment record\n",
    "- **Report Date**: July 31, 2025\n",
    "- **Data Source**: Mexican Social Security (IMSS) employment history\n",
    "\n",
    "## Personal Information\n",
    "- **Employee**: Joaquín Robles Quintana\n",
    "- **Birth Date**: February 18, 1991\n",
    "- **Email**: patricianaranjo@example.org\n",
    "- **Documents**: \n",
    "  - NSS: 70041684898\n",
    "  - CURP: BLPM951331IONVGR54\n",
    "\n",
    "## Employment History\n",
    "\n",
    "### Employment Details\n",
    "- **Employer**: Laboratorios Sarabia-Lemus\n",
    "- **Employer ID**: 165-LAB-23981-CDMX\n",
    "- **Location**: Distrito Federal\n",
    "- **Employment Period**: September 29, 1997 to July 29, 2010\n",
    "- **Duration**: 669 weeks (~12.9 years)\n",
    "- **Currency**: MXN (Mexican Peso)\n",
    "\n",
    "### Salary Information\n",
    "- **Monthly Salary**: $26,469.50 MXN\n",
    "- **Most Recent Base Salary**: $870.23 MXN\n",
    "- **Initial Base Salary**: $822.21 MXN (hired)\n",
    "- **Final Base Salary**: $870.23 MXN (dismissed/resigned)\n",
    "\n",
    "### Employment Status Updates\n",
    "1. **HIRED** (Sep 29, 1997): Base salary $822.21 MXN\n",
    "2. **SALARY_MODIFICATION** (Jun 17, 2005): Base salary $870.23 MXN\n",
    "3. **SALARY_MODIFICATION** (Jan 12, 2009): Base salary $887.99 MXN\n",
    "4. **DISMISSED_RESIGNED** (Jul 29, 2010): Base salary $870.23 MXN\n",
    "\n",
    "## Social Security Summary\n",
    "- **Weeks Contributed**: 669 weeks\n",
    "- **Weeks Redeemed**: None\n",
    "- **Weeks Reinstated**: None\n",
    "\n",
    "## Benefits & Entitlements\n",
    "- **Status**: Unknown\n",
    "- **Health Insurance**: Not entitled\n",
    "- **Company Benefits**: Not entitled\n",
    "- **Valid Until**: Not specified\n",
    "\n",
    "## Key Insights\n",
    "- Long-term employment relationship spanning nearly 13 years\n",
    "- Salary progression with multiple adjustments over time\n",
    "- Complete employment lifecycle from hiring to departure\n",
    "- Strong contribution record to social security system\n",
    "- Employment ended in 2010, suggesting historical data analysis\n",
    "- Single comprehensive record providing detailed employment timeline\n",
    "\n",
    "## Data Quality\n",
    "- Complete personal identification information\n",
    "- Detailed salary history with specific dates\n",
    "- Comprehensive employment status tracking\n",
    "- Full social security contribution record\n",
    "- No missing critical data points"
   ]
  },
  {
   "cell_type": "markdown",
   "id": "54a50699",
   "metadata": {},
   "source": []
  }
 ],
 "metadata": {
  "kernelspec": {
   "display_name": "belvo",
   "language": "python",
   "name": "python3"
  },
  "language_info": {
   "codemirror_mode": {
    "name": "ipython",
    "version": 3
   },
   "file_extension": ".py",
   "mimetype": "text/x-python",
   "name": "python",
   "nbconvert_exporter": "python",
   "pygments_lexer": "ipython3",
   "version": "3.12.11"
  }
 },
 "nbformat": 4,
 "nbformat_minor": 5
}

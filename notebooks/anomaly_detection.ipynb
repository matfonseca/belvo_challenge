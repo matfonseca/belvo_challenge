{
 "cells": [
  {
   "cell_type": "code",
   "execution_count": 1,
   "id": "7a7dd1a0",
   "metadata": {},
   "outputs": [],
   "source": [
    "from dotenv import load_dotenv\n",
    "import os\n",
    "import sys\n",
    "\n",
    "sys.path.append('../')\n",
    "\n",
    "load_dotenv()\n",
    "\n",
    "config = {\n",
    "    \"base_url\": os.getenv(\"BASE_URL\"),\n",
    "    \"client_id\": os.getenv(\"CLIENT_ID\"),\n",
    "    \"client_secret\": os.getenv(\"CLIENT_SECRET\")\n",
    "}\n"
   ]
  },
  {
   "cell_type": "code",
   "execution_count": 2,
   "id": "28c5a5ff",
   "metadata": {},
   "outputs": [
    {
     "data": {
      "text/html": [
       "<div>\n",
       "<style scoped>\n",
       "    .dataframe tbody tr th:only-of-type {\n",
       "        vertical-align: middle;\n",
       "    }\n",
       "\n",
       "    .dataframe tbody tr th {\n",
       "        vertical-align: top;\n",
       "    }\n",
       "\n",
       "    .dataframe thead th {\n",
       "        text-align: right;\n",
       "    }\n",
       "</style>\n",
       "<table border=\"1\" class=\"dataframe\">\n",
       "  <thead>\n",
       "    <tr style=\"text-align: right;\">\n",
       "      <th></th>\n",
       "      <th>id</th>\n",
       "      <th>account</th>\n",
       "      <th>created_at</th>\n",
       "      <th>type</th>\n",
       "      <th>amount</th>\n",
       "      <th>status</th>\n",
       "      <th>currency</th>\n",
       "      <th>value_date</th>\n",
       "      <th>description</th>\n",
       "      <th>collected_at</th>\n",
       "      <th>counterparty</th>\n",
       "      <th>transacted_at</th>\n",
       "      <th>operation_type</th>\n",
       "      <th>internal_identification</th>\n",
       "      <th>inferred_accounting_date</th>\n",
       "    </tr>\n",
       "  </thead>\n",
       "  <tbody>\n",
       "    <tr>\n",
       "      <th>0</th>\n",
       "      <td>00017ce9-4a85-49bf-9e21-2842f06ff5d5</td>\n",
       "      <td>{'id': '5b2073be-5ed5-48bb-8d42-242c9402eb8d',...</td>\n",
       "      <td>2025-07-31T11:59:14.680861Z</td>\n",
       "      <td>OUTFLOW</td>\n",
       "      <td>771.52</td>\n",
       "      <td>PROCESSED</td>\n",
       "      <td>BRL</td>\n",
       "      <td>2025-01-25</td>\n",
       "      <td>PAGAMENTO</td>\n",
       "      <td>2025-07-31T11:58:56.032624Z</td>\n",
       "      <td>{'name': None, 'type': 'INDIVIDUAL', 'agency':...</td>\n",
       "      <td>2025-01-25T03:01:13.613Z</td>\n",
       "      <td>CARTAO</td>\n",
       "      <td>20279336-7e3c-4628-8301-7f7ff43aa5a1</td>\n",
       "      <td>2025-01-27</td>\n",
       "    </tr>\n",
       "    <tr>\n",
       "      <th>1</th>\n",
       "      <td>0029a175-8a99-4695-beb7-bfccf50365cf</td>\n",
       "      <td>{'id': '5b2073be-5ed5-48bb-8d42-242c9402eb8d',...</td>\n",
       "      <td>2025-07-31T11:59:14.702401Z</td>\n",
       "      <td>OUTFLOW</td>\n",
       "      <td>771.52</td>\n",
       "      <td>PROCESSED</td>\n",
       "      <td>BRL</td>\n",
       "      <td>2025-01-22</td>\n",
       "      <td>PAGAMENTO</td>\n",
       "      <td>2025-07-31T11:58:56.407697Z</td>\n",
       "      <td>{'name': None, 'type': 'INDIVIDUAL', 'agency':...</td>\n",
       "      <td>2025-01-22T03:01:13.613Z</td>\n",
       "      <td>CARTAO</td>\n",
       "      <td>3b6839e5-1aeb-4f40-8faf-58b7729c3d56</td>\n",
       "      <td>2025-01-22</td>\n",
       "    </tr>\n",
       "    <tr>\n",
       "      <th>2</th>\n",
       "      <td>006f7aa4-c8b0-4416-aa80-8373badeb0e4</td>\n",
       "      <td>{'id': '5b2073be-5ed5-48bb-8d42-242c9402eb8d',...</td>\n",
       "      <td>2025-07-31T11:59:14.670951Z</td>\n",
       "      <td>OUTFLOW</td>\n",
       "      <td>771.52</td>\n",
       "      <td>PROCESSED</td>\n",
       "      <td>BRL</td>\n",
       "      <td>2025-01-27</td>\n",
       "      <td>PAGAMENTO</td>\n",
       "      <td>2025-07-31T11:58:55.920124Z</td>\n",
       "      <td>{'name': None, 'type': 'INDIVIDUAL', 'agency':...</td>\n",
       "      <td>2025-01-27T03:01:13.613Z</td>\n",
       "      <td>CARTAO</td>\n",
       "      <td>2b686d54-8971-4df4-842a-c2bd0fb49f20</td>\n",
       "      <td>2025-01-27</td>\n",
       "    </tr>\n",
       "    <tr>\n",
       "      <th>3</th>\n",
       "      <td>0077a313-08e9-4258-ab1a-f9ebc330ac46</td>\n",
       "      <td>{'id': '50ae652a-41b9-44d9-a5cb-7ed6203c733a',...</td>\n",
       "      <td>2025-07-31T11:59:14.691694Z</td>\n",
       "      <td>OUTFLOW</td>\n",
       "      <td>771.52</td>\n",
       "      <td>PROCESSED</td>\n",
       "      <td>BRL</td>\n",
       "      <td>2025-01-23</td>\n",
       "      <td>PAGAMENTO</td>\n",
       "      <td>2025-07-31T11:59:10.827392Z</td>\n",
       "      <td>{'name': None, 'type': 'INDIVIDUAL', 'agency':...</td>\n",
       "      <td>2025-01-23T03:01:13.613Z</td>\n",
       "      <td>CARTAO</td>\n",
       "      <td>9096cb55-3b4f-4f7b-a1ff-a949bfe254ce</td>\n",
       "      <td>2025-01-23</td>\n",
       "    </tr>\n",
       "    <tr>\n",
       "      <th>4</th>\n",
       "      <td>0084da46-d916-429d-a33b-6726378e6156</td>\n",
       "      <td>{'id': '50ae652a-41b9-44d9-a5cb-7ed6203c733a',...</td>\n",
       "      <td>2025-07-31T11:59:14.579266Z</td>\n",
       "      <td>OUTFLOW</td>\n",
       "      <td>771.52</td>\n",
       "      <td>PROCESSED</td>\n",
       "      <td>BRL</td>\n",
       "      <td>2025-07-23</td>\n",
       "      <td>PAGAMENTO</td>\n",
       "      <td>2025-07-31T11:59:10.734838Z</td>\n",
       "      <td>{'name': None, 'type': 'INDIVIDUAL', 'agency':...</td>\n",
       "      <td>2025-07-23T03:01:13.613Z</td>\n",
       "      <td>CARTAO</td>\n",
       "      <td>eb528819-f66b-44f5-9594-0496641374af</td>\n",
       "      <td>2025-07-23</td>\n",
       "    </tr>\n",
       "  </tbody>\n",
       "</table>\n",
       "</div>"
      ],
      "text/plain": [
       "                                     id  \\\n",
       "0  00017ce9-4a85-49bf-9e21-2842f06ff5d5   \n",
       "1  0029a175-8a99-4695-beb7-bfccf50365cf   \n",
       "2  006f7aa4-c8b0-4416-aa80-8373badeb0e4   \n",
       "3  0077a313-08e9-4258-ab1a-f9ebc330ac46   \n",
       "4  0084da46-d916-429d-a33b-6726378e6156   \n",
       "\n",
       "                                             account  \\\n",
       "0  {'id': '5b2073be-5ed5-48bb-8d42-242c9402eb8d',...   \n",
       "1  {'id': '5b2073be-5ed5-48bb-8d42-242c9402eb8d',...   \n",
       "2  {'id': '5b2073be-5ed5-48bb-8d42-242c9402eb8d',...   \n",
       "3  {'id': '50ae652a-41b9-44d9-a5cb-7ed6203c733a',...   \n",
       "4  {'id': '50ae652a-41b9-44d9-a5cb-7ed6203c733a',...   \n",
       "\n",
       "                    created_at     type  amount     status currency  \\\n",
       "0  2025-07-31T11:59:14.680861Z  OUTFLOW  771.52  PROCESSED      BRL   \n",
       "1  2025-07-31T11:59:14.702401Z  OUTFLOW  771.52  PROCESSED      BRL   \n",
       "2  2025-07-31T11:59:14.670951Z  OUTFLOW  771.52  PROCESSED      BRL   \n",
       "3  2025-07-31T11:59:14.691694Z  OUTFLOW  771.52  PROCESSED      BRL   \n",
       "4  2025-07-31T11:59:14.579266Z  OUTFLOW  771.52  PROCESSED      BRL   \n",
       "\n",
       "   value_date description                 collected_at  \\\n",
       "0  2025-01-25   PAGAMENTO  2025-07-31T11:58:56.032624Z   \n",
       "1  2025-01-22   PAGAMENTO  2025-07-31T11:58:56.407697Z   \n",
       "2  2025-01-27   PAGAMENTO  2025-07-31T11:58:55.920124Z   \n",
       "3  2025-01-23   PAGAMENTO  2025-07-31T11:59:10.827392Z   \n",
       "4  2025-07-23   PAGAMENTO  2025-07-31T11:59:10.734838Z   \n",
       "\n",
       "                                        counterparty  \\\n",
       "0  {'name': None, 'type': 'INDIVIDUAL', 'agency':...   \n",
       "1  {'name': None, 'type': 'INDIVIDUAL', 'agency':...   \n",
       "2  {'name': None, 'type': 'INDIVIDUAL', 'agency':...   \n",
       "3  {'name': None, 'type': 'INDIVIDUAL', 'agency':...   \n",
       "4  {'name': None, 'type': 'INDIVIDUAL', 'agency':...   \n",
       "\n",
       "              transacted_at operation_type  \\\n",
       "0  2025-01-25T03:01:13.613Z         CARTAO   \n",
       "1  2025-01-22T03:01:13.613Z         CARTAO   \n",
       "2  2025-01-27T03:01:13.613Z         CARTAO   \n",
       "3  2025-01-23T03:01:13.613Z         CARTAO   \n",
       "4  2025-07-23T03:01:13.613Z         CARTAO   \n",
       "\n",
       "                internal_identification inferred_accounting_date  \n",
       "0  20279336-7e3c-4628-8301-7f7ff43aa5a1               2025-01-27  \n",
       "1  3b6839e5-1aeb-4f40-8faf-58b7729c3d56               2025-01-22  \n",
       "2  2b686d54-8971-4df4-842a-c2bd0fb49f20               2025-01-27  \n",
       "3  9096cb55-3b4f-4f7b-a1ff-a949bfe254ce               2025-01-23  \n",
       "4  eb528819-f66b-44f5-9594-0496641374af               2025-07-23  "
      ]
     },
     "execution_count": 2,
     "metadata": {},
     "output_type": "execute_result"
    }
   ],
   "source": [
    "import pandas as pd\n",
    "\n",
    "df = pd.read_csv('../data/transactions.csv')\n",
    "\n",
    "df.head()"
   ]
  },
  {
   "cell_type": "code",
   "execution_count": 3,
   "id": "9f5d1a40",
   "metadata": {},
   "outputs": [],
   "source": [
    "import json\n",
    "\n",
    "def extract_account_info(account):\n",
    "    account_info = json.loads(account.replace(\"'\", '\"'))\n",
    "    return pd.Series({\n",
    "        \"account_category\": account_info[\"category\"],\n",
    "        \"account_number\": account_info[\"number\"],\n",
    "        \"account_name\": account_info[\"name\"]\n",
    "    })\n",
    "\n",
    "df[[\"account_category\", \"account_number\", \"account_name\"]] = df[\"account\"].apply(extract_account_info)\n"
   ]
  },
  {
   "cell_type": "code",
   "execution_count": 4,
   "id": "03ed601a",
   "metadata": {},
   "outputs": [
    {
     "data": {
      "text/plain": [
       "account_category\n",
       "SAVINGS_ACCOUNT     1234\n",
       "CHECKING_ACCOUNT    1060\n",
       "Name: count, dtype: int64"
      ]
     },
     "execution_count": 4,
     "metadata": {},
     "output_type": "execute_result"
    }
   ],
   "source": [
    "df.account_category.value_counts()"
   ]
  },
  {
   "cell_type": "code",
   "execution_count": 5,
   "id": "65b3ede0",
   "metadata": {},
   "outputs": [],
   "source": [
    "df_savings = df[df['account_category']=='SAVINGS_ACCOUNT']\n",
    "df_checking = df[df['account_category']=='CHECKING_ACCOUNT']"
   ]
  },
  {
   "cell_type": "code",
   "execution_count": 6,
   "id": "acba2302",
   "metadata": {},
   "outputs": [
    {
     "data": {
      "text/plain": [
       "<Axes: >"
      ]
     },
     "execution_count": 6,
     "metadata": {},
     "output_type": "execute_result"
    },
    {
     "data": {
      "image/png": "[encoded data removed]",
      "text/plain": [
       "<Figure size 640x480 with 1 Axes>"
      ]
     },
     "metadata": {},
     "output_type": "display_data"
    }
   ],
   "source": [
    "df_savings.amount.hist()"
   ]
  },
  {
   "cell_type": "code",
   "execution_count": 7,
   "id": "b6094bde",
   "metadata": {},
   "outputs": [
    {
     "data": {
      "text/plain": [
       "count    1.234000e+03\n",
       "mean     7.715200e+02\n",
       "std      1.137329e-13\n",
       "min      7.715200e+02\n",
       "25%      7.715200e+02\n",
       "50%      7.715200e+02\n",
       "75%      7.715200e+02\n",
       "max      7.715200e+02\n",
       "Name: amount, dtype: float64"
      ]
     },
     "execution_count": 7,
     "metadata": {},
     "output_type": "execute_result"
    }
   ],
   "source": [
    "df_savings.amount.describe()"
   ]
  },
  {
   "cell_type": "code",
   "execution_count": 8,
   "id": "1c342c8f",
   "metadata": {},
   "outputs": [
    {
     "data": {
      "text/plain": [
       "<Axes: >"
      ]
     },
     "execution_count": 8,
     "metadata": {},
     "output_type": "execute_result"
    },
    {
     "data": {
      "image/png": "[encoded data removed]",
      "text/plain": [
       "<Figure size 640x480 with 1 Axes>"
      ]
     },
     "metadata": {},
     "output_type": "display_data"
    }
   ],
   "source": [
    "df_checking.amount.hist()"
   ]
  },
  {
   "cell_type": "code",
   "execution_count": 11,
   "id": "ad09ab7f",
   "metadata": {},
   "outputs": [
    {
     "data": {
      "text/plain": [
       "count    1.060000e+03\n",
       "mean     7.715200e+02\n",
       "std      1.137405e-13\n",
       "min      7.715200e+02\n",
       "25%      7.715200e+02\n",
       "50%      7.715200e+02\n",
       "75%      7.715200e+02\n",
       "max      7.715200e+02\n",
       "Name: amount, dtype: float64"
      ]
     },
     "execution_count": 11,
     "metadata": {},
     "output_type": "execute_result"
    }
   ],
   "source": [
    "df_checking.amount.describe()"
   ]
  },
  {
   "cell_type": "code",
   "execution_count": 12,
   "id": "a84d3855",
   "metadata": {},
   "outputs": [
    {
     "data": {
      "text/plain": [
       "value_date\n",
       "2025-01-25    121\n",
       "2025-01-22    121\n",
       "2025-01-23    121\n",
       "2025-01-24    121\n",
       "2025-01-21    121\n",
       "             ... \n",
       "2024-09-12      1\n",
       "2024-08-13      1\n",
       "2024-12-28      1\n",
       "2024-12-01      1\n",
       "2024-10-31      1\n",
       "Name: count, Length: 180, dtype: int64"
      ]
     },
     "execution_count": 12,
     "metadata": {},
     "output_type": "execute_result"
    }
   ],
   "source": [
    "df.value_date.value_counts()"
   ]
  },
  {
   "cell_type": "code",
   "execution_count": 16,
   "id": "40b0ceef",
   "metadata": {},
   "outputs": [
    {
     "data": {
      "image/png": "[encoded data removed]",
      "text/plain": [
       "<Figure size 640x480 with 1 Axes>"
      ]
     },
     "metadata": {},
     "output_type": "display_data"
    }
   ],
   "source": [
    "import matplotlib.pyplot as plt\n",
    "\n",
    "df.groupby('value_date')['amount'].sum().plot(kind='bar')\n",
    "plt.title('Amount by value date')\n",
    "plt.xlabel('Value date')\n",
    "plt.ylabel('Amount')\n",
    "plt.show()\n"
   ]
  },
  {
   "cell_type": "code",
   "execution_count": 20,
   "id": "367b01d4",
   "metadata": {},
   "outputs": [
    {
     "data": {
      "image/png": "[encoded data removed]",
      "text/plain": [
       "<Figure size 640x480 with 1 Axes>"
      ]
     },
     "metadata": {},
     "output_type": "display_data"
    }
   ],
   "source": [
    "import matplotlib.pyplot as plt\n",
    "df['value_date'] = pd.to_datetime(df['value_date'])\n",
    "last_six_months = df['value_date'].max() - pd.DateOffset(months=6)\n",
    "df_last_six_months = df[df['value_date'] > last_six_months]\n",
    "\n",
    "df_last_six_months.groupby('value_date')['amount'].sum().plot(kind='bar')\n",
    "plt.title('Amount by value date (last 6 months)')\n",
    "plt.xlabel('Value date')\n",
    "plt.ylabel('Amount')\n",
    "plt.show()\n"
   ]
  },
  {
   "cell_type": "code",
   "execution_count": 21,
   "id": "3d4ab28d",
   "metadata": {},
   "outputs": [
    {
     "data": {
      "image/png": "[encoded data removed]",
      "text/plain": [
       "<Figure size 640x480 with 1 Axes>"
      ]
     },
     "metadata": {},
     "output_type": "display_data"
    }
   ],
   "source": [
    "import matplotlib.pyplot as plt\n",
    "df['value_date'] = pd.to_datetime(df['value_date'])\n",
    "last_six_months = df['value_date'].max() - pd.DateOffset(months=6)\n",
    "df_last_six_months = df[df['value_date'] > last_six_months]\n",
    "\n",
    "df_last_six_months.groupby('value_date')['amount'].count().plot(kind='bar')\n",
    "plt.title('Amount by value date (last 6 months)')\n",
    "plt.xlabel('Value date')\n",
    "plt.ylabel('Amount')\n",
    "plt.show()\n"
   ]
  },
  {
   "cell_type": "code",
   "execution_count": null,
   "id": "fa230d91",
   "metadata": {},
   "outputs": [],
   "source": []
  },
  {
   "cell_type": "code",
   "execution_count": 40,
   "id": "027da1c9",
   "metadata": {},
   "outputs": [],
   "source": [
    "df_invoices = pd.read_csv('../data/invoices.csv')"
   ]
  },
  {
   "cell_type": "code",
   "execution_count": 41,
   "id": "621465f4",
   "metadata": {},
   "outputs": [
    {
     "data": {
      "text/html": [
       "<div>\n",
       "<style scoped>\n",
       "    .dataframe tbody tr th:only-of-type {\n",
       "        vertical-align: middle;\n",
       "    }\n",
       "\n",
       "    .dataframe tbody tr th {\n",
       "        vertical-align: top;\n",
       "    }\n",
       "\n",
       "    .dataframe thead th {\n",
       "        text-align: right;\n",
       "    }\n",
       "</style>\n",
       "<table border=\"1\" class=\"dataframe\">\n",
       "  <thead>\n",
       "    <tr style=\"text-align: right;\">\n",
       "      <th></th>\n",
       "      <th>id</th>\n",
       "      <th>link</th>\n",
       "      <th>created_at</th>\n",
       "      <th>type</th>\n",
       "      <th>usage</th>\n",
       "      <th>status</th>\n",
       "      <th>payroll</th>\n",
       "      <th>version</th>\n",
       "      <th>payments</th>\n",
       "      <th>sender_id</th>\n",
       "      <th>...</th>\n",
       "      <th>exchange_rate</th>\n",
       "      <th>receiver_name</th>\n",
       "      <th>payment_method</th>\n",
       "      <th>place_of_issue</th>\n",
       "      <th>discount_amount</th>\n",
       "      <th>invoice_details</th>\n",
       "      <th>subtotal_amount</th>\n",
       "      <th>certification_date</th>\n",
       "      <th>invoice_identification</th>\n",
       "      <th>certification_authority</th>\n",
       "    </tr>\n",
       "  </thead>\n",
       "  <tbody>\n",
       "    <tr>\n",
       "      <th>0</th>\n",
       "      <td>67b1839f-13a9-4c07-a23d-cadf2645f05b</td>\n",
       "      <td>c4432b21-b248-4bff-ab46-05ec06a22da1</td>\n",
       "      <td>2025-07-31T12:00:44.246920Z</td>\n",
       "      <td>INFLOW</td>\n",
       "      <td>G03</td>\n",
       "      <td>Vigent</td>\n",
       "      <td>{'days': None, 'type': None, 'amount': 40.2, '...</td>\n",
       "      <td>3.3</td>\n",
       "      <td>[{'date': '2025-06-21T09:38:27.254442', 'amoun...</td>\n",
       "      <td>PEVS00050734I</td>\n",
       "      <td>...</td>\n",
       "      <td>1</td>\n",
       "      <td>Receptor F967</td>\n",
       "      <td>PUE</td>\n",
       "      <td>11000</td>\n",
       "      <td>0.0</td>\n",
       "      <td>[{'quantity': 1, 'unit_code': 'ACT', 'tax_amou...</td>\n",
       "      <td>0.00</td>\n",
       "      <td>2025-05-16T09:06:22.620431</td>\n",
       "      <td>4b11e71a-948a-3b5f-3634-9f783d3fc39</td>\n",
       "      <td>f224b774924b3</td>\n",
       "    </tr>\n",
       "    <tr>\n",
       "      <th>1</th>\n",
       "      <td>c57021f2-4055-4d72-84b5-6782a8707b33</td>\n",
       "      <td>c4432b21-b248-4bff-ab46-05ec06a22da1</td>\n",
       "      <td>2025-07-31T12:00:44.246899Z</td>\n",
       "      <td>INFLOW</td>\n",
       "      <td>G03</td>\n",
       "      <td>Vigent</td>\n",
       "      <td>{'days': None, 'type': None, 'amount': 40.2, '...</td>\n",
       "      <td>3.3</td>\n",
       "      <td>[]</td>\n",
       "      <td>REBF170804BSQ</td>\n",
       "      <td>...</td>\n",
       "      <td>1</td>\n",
       "      <td>Receptor 9264</td>\n",
       "      <td>PPD</td>\n",
       "      <td>11000</td>\n",
       "      <td>1278.0</td>\n",
       "      <td>[{'quantity': 5, 'unit_code': 'E48', 'tax_amou...</td>\n",
       "      <td>62068.55</td>\n",
       "      <td>2025-07-06T03:37:11.877383</td>\n",
       "      <td>fb12ad63-6c12-47bf-5565-b1e6b335a25</td>\n",
       "      <td>dacdbadfabdfe</td>\n",
       "    </tr>\n",
       "    <tr>\n",
       "      <th>2</th>\n",
       "      <td>1c0b33b0-9b06-4ccc-a354-44aca5b772b3</td>\n",
       "      <td>c4432b21-b248-4bff-ab46-05ec06a22da1</td>\n",
       "      <td>2025-07-31T12:00:44.246878Z</td>\n",
       "      <td>OUTFLOW</td>\n",
       "      <td>G03</td>\n",
       "      <td>Vigent</td>\n",
       "      <td>{'days': None, 'type': None, 'amount': 40.2, '...</td>\n",
       "      <td>3.3</td>\n",
       "      <td>[]</td>\n",
       "      <td>WONZ231224NY5</td>\n",
       "      <td>...</td>\n",
       "      <td>1</td>\n",
       "      <td>Receptor EFFA</td>\n",
       "      <td>PPD</td>\n",
       "      <td>11000</td>\n",
       "      <td>13044.0</td>\n",
       "      <td>[{'quantity': 9, 'unit_code': 'E48', 'tax_amou...</td>\n",
       "      <td>88995.27</td>\n",
       "      <td>2025-05-25T04:32:15.287479</td>\n",
       "      <td>fddc6c3d-ba7e-1627-72f7-fc8ae9314e5</td>\n",
       "      <td>2788274f4e78c</td>\n",
       "    </tr>\n",
       "    <tr>\n",
       "      <th>3</th>\n",
       "      <td>72248a88-5ae1-4860-9e1c-d003f14264f1</td>\n",
       "      <td>c4432b21-b248-4bff-ab46-05ec06a22da1</td>\n",
       "      <td>2025-07-31T12:00:44.246857Z</td>\n",
       "      <td>OUTFLOW</td>\n",
       "      <td>G03</td>\n",
       "      <td>Vigent</td>\n",
       "      <td>{'days': None, 'type': None, 'amount': 40.2, '...</td>\n",
       "      <td>3.3</td>\n",
       "      <td>[{'date': '2025-05-08T18:24:52.975934', 'amoun...</td>\n",
       "      <td>QIMV571204G07</td>\n",
       "      <td>...</td>\n",
       "      <td>1</td>\n",
       "      <td>Receptor 8342</td>\n",
       "      <td>PPD</td>\n",
       "      <td>11000</td>\n",
       "      <td>0.0</td>\n",
       "      <td>[{'quantity': 1, 'unit_code': 'ACT', 'tax_amou...</td>\n",
       "      <td>0.00</td>\n",
       "      <td>2025-06-28T02:01:29.781181</td>\n",
       "      <td>fe81c6c3-aa6c-ebc1-61db-38ad5d9fbce</td>\n",
       "      <td>9b3ee1e62c814</td>\n",
       "    </tr>\n",
       "    <tr>\n",
       "      <th>4</th>\n",
       "      <td>5d65feea-e140-496c-927d-085975a492a5</td>\n",
       "      <td>c4432b21-b248-4bff-ab46-05ec06a22da1</td>\n",
       "      <td>2025-07-31T12:00:44.246835Z</td>\n",
       "      <td>OUTFLOW</td>\n",
       "      <td>G03</td>\n",
       "      <td>Vigent</td>\n",
       "      <td>{'days': None, 'type': None, 'amount': 40.2, '...</td>\n",
       "      <td>3.3</td>\n",
       "      <td>[]</td>\n",
       "      <td>HEAA771128VCX</td>\n",
       "      <td>...</td>\n",
       "      <td>1</td>\n",
       "      <td>Receptor 1BAE</td>\n",
       "      <td>PPD</td>\n",
       "      <td>11000</td>\n",
       "      <td>9426.0</td>\n",
       "      <td>[{'quantity': 1, 'unit_code': 'E48', 'tax_amou...</td>\n",
       "      <td>65730.90</td>\n",
       "      <td>2025-07-13T08:50:14.313874</td>\n",
       "      <td>be296788-b2f2-1688-96a4-5497188d74e</td>\n",
       "      <td>fe5865f14f5fc</td>\n",
       "    </tr>\n",
       "  </tbody>\n",
       "</table>\n",
       "<p>5 rows × 28 columns</p>\n",
       "</div>"
      ],
      "text/plain": [
       "                                     id                                  link  \\\n",
       "0  67b1839f-13a9-4c07-a23d-cadf2645f05b  c4432b21-b248-4bff-ab46-05ec06a22da1   \n",
       "1  c57021f2-4055-4d72-84b5-6782a8707b33  c4432b21-b248-4bff-ab46-05ec06a22da1   \n",
       "2  1c0b33b0-9b06-4ccc-a354-44aca5b772b3  c4432b21-b248-4bff-ab46-05ec06a22da1   \n",
       "3  72248a88-5ae1-4860-9e1c-d003f14264f1  c4432b21-b248-4bff-ab46-05ec06a22da1   \n",
       "4  5d65feea-e140-496c-927d-085975a492a5  c4432b21-b248-4bff-ab46-05ec06a22da1   \n",
       "\n",
       "                    created_at     type usage  status  \\\n",
       "0  2025-07-31T12:00:44.246920Z   INFLOW   G03  Vigent   \n",
       "1  2025-07-31T12:00:44.246899Z   INFLOW   G03  Vigent   \n",
       "2  2025-07-31T12:00:44.246878Z  OUTFLOW   G03  Vigent   \n",
       "3  2025-07-31T12:00:44.246857Z  OUTFLOW   G03  Vigent   \n",
       "4  2025-07-31T12:00:44.246835Z  OUTFLOW   G03  Vigent   \n",
       "\n",
       "                                             payroll  version  \\\n",
       "0  {'days': None, 'type': None, 'amount': 40.2, '...      3.3   \n",
       "1  {'days': None, 'type': None, 'amount': 40.2, '...      3.3   \n",
       "2  {'days': None, 'type': None, 'amount': 40.2, '...      3.3   \n",
       "3  {'days': None, 'type': None, 'amount': 40.2, '...      3.3   \n",
       "4  {'days': None, 'type': None, 'amount': 40.2, '...      3.3   \n",
       "\n",
       "                                            payments      sender_id  ...  \\\n",
       "0  [{'date': '2025-06-21T09:38:27.254442', 'amoun...  PEVS00050734I  ...   \n",
       "1                                                 []  REBF170804BSQ  ...   \n",
       "2                                                 []  WONZ231224NY5  ...   \n",
       "3  [{'date': '2025-05-08T18:24:52.975934', 'amoun...  QIMV571204G07  ...   \n",
       "4                                                 []  HEAA771128VCX  ...   \n",
       "\n",
       "   exchange_rate  receiver_name payment_method place_of_issue discount_amount  \\\n",
       "0              1  Receptor F967            PUE          11000             0.0   \n",
       "1              1  Receptor 9264            PPD          11000          1278.0   \n",
       "2              1  Receptor EFFA            PPD          11000         13044.0   \n",
       "3              1  Receptor 8342            PPD          11000             0.0   \n",
       "4              1  Receptor 1BAE            PPD          11000          9426.0   \n",
       "\n",
       "                                     invoice_details  subtotal_amount  \\\n",
       "0  [{'quantity': 1, 'unit_code': 'ACT', 'tax_amou...             0.00   \n",
       "1  [{'quantity': 5, 'unit_code': 'E48', 'tax_amou...         62068.55   \n",
       "2  [{'quantity': 9, 'unit_code': 'E48', 'tax_amou...         88995.27   \n",
       "3  [{'quantity': 1, 'unit_code': 'ACT', 'tax_amou...             0.00   \n",
       "4  [{'quantity': 1, 'unit_code': 'E48', 'tax_amou...         65730.90   \n",
       "\n",
       "           certification_date               invoice_identification  \\\n",
       "0  2025-05-16T09:06:22.620431  4b11e71a-948a-3b5f-3634-9f783d3fc39   \n",
       "1  2025-07-06T03:37:11.877383  fb12ad63-6c12-47bf-5565-b1e6b335a25   \n",
       "2  2025-05-25T04:32:15.287479  fddc6c3d-ba7e-1627-72f7-fc8ae9314e5   \n",
       "3  2025-06-28T02:01:29.781181  fe81c6c3-aa6c-ebc1-61db-38ad5d9fbce   \n",
       "4  2025-07-13T08:50:14.313874  be296788-b2f2-1688-96a4-5497188d74e   \n",
       "\n",
       "  certification_authority  \n",
       "0           f224b774924b3  \n",
       "1           dacdbadfabdfe  \n",
       "2           2788274f4e78c  \n",
       "3           9b3ee1e62c814  \n",
       "4           fe5865f14f5fc  \n",
       "\n",
       "[5 rows x 28 columns]"
      ]
     },
     "execution_count": 41,
     "metadata": {},
     "output_type": "execute_result"
    }
   ],
   "source": [
    "df_invoices.head()"
   ]
  },
  {
   "cell_type": "code",
   "execution_count": 47,
   "id": "27dcac61",
   "metadata": {},
   "outputs": [
    {
     "data": {
      "text/plain": [
       "[{'quantity': 1,\n",
       "  'unit_code': 'ACT',\n",
       "  'tax_amount': 0.0,\n",
       "  'description': 'Pago',\n",
       "  'unit_amount': 0,\n",
       "  'collected_at': '2025-07-31T12:00:01.821589Z',\n",
       "  'expense_type': None,\n",
       "  'payment_type': None,\n",
       "  'total_amount': 0.0,\n",
       "  'payment_method': None,\n",
       "  'pre_tax_amount': 0,\n",
       "  'retained_taxes': [],\n",
       "  'tax_percentage': 0,\n",
       "  'unit_description': 'Producto 95FB',\n",
       "  'invoice_identification': None,\n",
       "  'product_identification': '84111506',\n",
       "  'payment_type_description': None,\n",
       "  'payment_method_description': None}]"
      ]
     },
     "execution_count": 47,
     "metadata": {},
     "output_type": "execute_result"
    }
   ],
   "source": [
    "json.loads(df_invoices[\"invoice_details\"].iloc[0].replace(\"'\", '\"').replace(\"None\", \"null\"))"
   ]
  },
  {
   "cell_type": "code",
   "execution_count": 49,
   "id": "d5d11986",
   "metadata": {},
   "outputs": [
    {
     "data": {
      "text/plain": [
       "<Axes: >"
      ]
     },
     "execution_count": 49,
     "metadata": {},
     "output_type": "execute_result"
    },
    {
     "data": {
      "image/png": "[encoded data removed]",
      "text/plain": [
       "<Figure size 640x480 with 1 Axes>"
      ]
     },
     "metadata": {},
     "output_type": "display_data"
    }
   ],
   "source": [
    "df_invoices.total_amount.hist()"
   ]
  },
  {
   "cell_type": "code",
   "execution_count": 50,
   "id": "dc1c7a75",
   "metadata": {},
   "outputs": [
    {
     "data": {
      "text/html": [
       "<div>\n",
       "<style scoped>\n",
       "    .dataframe tbody tr th:only-of-type {\n",
       "        vertical-align: middle;\n",
       "    }\n",
       "\n",
       "    .dataframe tbody tr th {\n",
       "        vertical-align: top;\n",
       "    }\n",
       "\n",
       "    .dataframe thead th {\n",
       "        text-align: right;\n",
       "    }\n",
       "</style>\n",
       "<table border=\"1\" class=\"dataframe\">\n",
       "  <thead>\n",
       "    <tr style=\"text-align: right;\">\n",
       "      <th></th>\n",
       "      <th></th>\n",
       "      <th>mean</th>\n",
       "      <th>std</th>\n",
       "    </tr>\n",
       "    <tr>\n",
       "      <th>type</th>\n",
       "      <th>invoice_type</th>\n",
       "      <th></th>\n",
       "      <th></th>\n",
       "    </tr>\n",
       "  </thead>\n",
       "  <tbody>\n",
       "    <tr>\n",
       "      <th rowspan=\"5\" valign=\"top\">INFLOW</th>\n",
       "      <th>Egreso</th>\n",
       "      <td>71629.727895</td>\n",
       "      <td>51696.542531</td>\n",
       "    </tr>\n",
       "    <tr>\n",
       "      <th>Ingreso</th>\n",
       "      <td>62967.659167</td>\n",
       "      <td>40064.651784</td>\n",
       "    </tr>\n",
       "    <tr>\n",
       "      <th>Nómina</th>\n",
       "      <td>6153.824118</td>\n",
       "      <td>3550.619090</td>\n",
       "    </tr>\n",
       "    <tr>\n",
       "      <th>Pago</th>\n",
       "      <td>0.000000</td>\n",
       "      <td>0.000000</td>\n",
       "    </tr>\n",
       "    <tr>\n",
       "      <th>Traslado</th>\n",
       "      <td>77660.733500</td>\n",
       "      <td>49637.012747</td>\n",
       "    </tr>\n",
       "    <tr>\n",
       "      <th rowspan=\"5\" valign=\"top\">OUTFLOW</th>\n",
       "      <th>Egreso</th>\n",
       "      <td>52352.082500</td>\n",
       "      <td>48262.773324</td>\n",
       "    </tr>\n",
       "    <tr>\n",
       "      <th>Ingreso</th>\n",
       "      <td>86878.426500</td>\n",
       "      <td>39135.868559</td>\n",
       "    </tr>\n",
       "    <tr>\n",
       "      <th>Nómina</th>\n",
       "      <td>6201.715000</td>\n",
       "      <td>3139.663771</td>\n",
       "    </tr>\n",
       "    <tr>\n",
       "      <th>Pago</th>\n",
       "      <td>0.000000</td>\n",
       "      <td>0.000000</td>\n",
       "    </tr>\n",
       "    <tr>\n",
       "      <th>Traslado</th>\n",
       "      <td>78263.373571</td>\n",
       "      <td>36394.306803</td>\n",
       "    </tr>\n",
       "  </tbody>\n",
       "</table>\n",
       "</div>"
      ],
      "text/plain": [
       "                              mean           std\n",
       "type    invoice_type                            \n",
       "INFLOW  Egreso        71629.727895  51696.542531\n",
       "        Ingreso       62967.659167  40064.651784\n",
       "        Nómina         6153.824118   3550.619090\n",
       "        Pago              0.000000      0.000000\n",
       "        Traslado      77660.733500  49637.012747\n",
       "OUTFLOW Egreso        52352.082500  48262.773324\n",
       "        Ingreso       86878.426500  39135.868559\n",
       "        Nómina         6201.715000   3139.663771\n",
       "        Pago              0.000000      0.000000\n",
       "        Traslado      78263.373571  36394.306803"
      ]
     },
     "execution_count": 50,
     "metadata": {},
     "output_type": "execute_result"
    }
   ],
   "source": [
    "df_invoices.groupby(['type','invoice_type'])['total_amount'].agg(['mean','std'])"
   ]
  },
  {
   "cell_type": "code",
   "execution_count": 55,
   "id": "87efd69b",
   "metadata": {},
   "outputs": [],
   "source": [
    "df_invoices['created_at_date'] = pd.to_datetime(df_invoices['created_at']).dt.date\n"
   ]
  },
  {
   "cell_type": "code",
   "execution_count": 58,
   "id": "69e88820",
   "metadata": {},
   "outputs": [
    {
     "data": {
      "text/plain": [
       "invoice_date\n",
       "2024-01-16    4\n",
       "2023-01-02    3\n",
       "2023-01-23    3\n",
       "2025-07-26    3\n",
       "2025-01-14    2\n",
       "             ..\n",
       "2022-03-17    1\n",
       "2022-03-30    1\n",
       "2023-01-13    1\n",
       "2023-01-16    1\n",
       "2025-08-21    1\n",
       "Name: count, Length: 129, dtype: int64"
      ]
     },
     "execution_count": 58,
     "metadata": {},
     "output_type": "execute_result"
    }
   ],
   "source": [
    "df_invoices['invoice_date'].value_counts()"
   ]
  },
  {
   "cell_type": "code",
   "execution_count": 89,
   "id": "92b6ff43",
   "metadata": {},
   "outputs": [
    {
     "data": {
      "text/plain": [
       "Text(0.5, 1.0, 'OUTFLOW')"
      ]
     },
     "execution_count": 89,
     "metadata": {},
     "output_type": "execute_result"
    },
    {
     "data": {
      "image/png": "[encoded data removed]",
      "text/plain": [
       "<Figure size 1500x600 with 2 Axes>"
      ]
     },
     "metadata": {},
     "output_type": "display_data"
    }
   ],
   "source": [
    "fig, ax = plt.subplots(1, 2, figsize=(15, 6))\n",
    "df_invoices_inflow = df_invoices[df_invoices.type == 'INFLOW'].groupby(['invoice_date', 'invoice_type'])['total_amount'].sum()\n",
    "df_invoices_inflow.unstack().plot(kind='line', ax=ax[0])\n",
    "ax[0].set_title('INFLOW')\n",
    "df_invoices_outflow = df_invoices[df_invoices.type == 'OUTFLOW'].groupby(['invoice_date', 'invoice_type'])['total_amount'].sum()\n",
    "df_invoices_outflow.unstack().plot(kind='line', ax=ax[1])\n",
    "ax[1].set_title('OUTFLOW')\n"
   ]
  },
  {
   "cell_type": "code",
   "execution_count": 91,
   "id": "1787a82a",
   "metadata": {},
   "outputs": [
    {
     "data": {
      "text/html": [
       "<div>\n",
       "<style scoped>\n",
       "    .dataframe tbody tr th:only-of-type {\n",
       "        vertical-align: middle;\n",
       "    }\n",
       "\n",
       "    .dataframe tbody tr th {\n",
       "        vertical-align: top;\n",
       "    }\n",
       "\n",
       "    .dataframe thead th {\n",
       "        text-align: right;\n",
       "    }\n",
       "</style>\n",
       "<table border=\"1\" class=\"dataframe\">\n",
       "  <thead>\n",
       "    <tr style=\"text-align: right;\">\n",
       "      <th></th>\n",
       "      <th>invoice_date</th>\n",
       "      <th>invoice_type</th>\n",
       "      <th>total_amount</th>\n",
       "    </tr>\n",
       "  </thead>\n",
       "  <tbody>\n",
       "    <tr>\n",
       "      <th>0</th>\n",
       "      <td>2022-03-30</td>\n",
       "      <td>Egreso</td>\n",
       "      <td>130656.05</td>\n",
       "    </tr>\n",
       "    <tr>\n",
       "      <th>1</th>\n",
       "      <td>2022-04-11</td>\n",
       "      <td>Traslado</td>\n",
       "      <td>192831.98</td>\n",
       "    </tr>\n",
       "    <tr>\n",
       "      <th>2</th>\n",
       "      <td>2022-04-29</td>\n",
       "      <td>Nómina</td>\n",
       "      <td>9835.64</td>\n",
       "    </tr>\n",
       "    <tr>\n",
       "      <th>3</th>\n",
       "      <td>2022-06-09</td>\n",
       "      <td>Egreso</td>\n",
       "      <td>68801.51</td>\n",
       "    </tr>\n",
       "    <tr>\n",
       "      <th>4</th>\n",
       "      <td>2022-06-21</td>\n",
       "      <td>Nómina</td>\n",
       "      <td>12128.94</td>\n",
       "    </tr>\n",
       "    <tr>\n",
       "      <th>...</th>\n",
       "      <td>...</td>\n",
       "      <td>...</td>\n",
       "      <td>...</td>\n",
       "    </tr>\n",
       "    <tr>\n",
       "      <th>78</th>\n",
       "      <td>2025-08-18</td>\n",
       "      <td>Pago</td>\n",
       "      <td>0.00</td>\n",
       "    </tr>\n",
       "    <tr>\n",
       "      <th>79</th>\n",
       "      <td>2025-08-21</td>\n",
       "      <td>Egreso</td>\n",
       "      <td>25305.43</td>\n",
       "    </tr>\n",
       "    <tr>\n",
       "      <th>80</th>\n",
       "      <td>2025-08-22</td>\n",
       "      <td>Nómina</td>\n",
       "      <td>4690.03</td>\n",
       "    </tr>\n",
       "    <tr>\n",
       "      <th>81</th>\n",
       "      <td>2025-08-28</td>\n",
       "      <td>Ingreso</td>\n",
       "      <td>34976.84</td>\n",
       "    </tr>\n",
       "    <tr>\n",
       "      <th>82</th>\n",
       "      <td>2025-08-30</td>\n",
       "      <td>Egreso</td>\n",
       "      <td>81360.65</td>\n",
       "    </tr>\n",
       "  </tbody>\n",
       "</table>\n",
       "<p>83 rows × 3 columns</p>\n",
       "</div>"
      ],
      "text/plain": [
       "   invoice_date invoice_type  total_amount\n",
       "0    2022-03-30       Egreso     130656.05\n",
       "1    2022-04-11     Traslado     192831.98\n",
       "2    2022-04-29       Nómina       9835.64\n",
       "3    2022-06-09       Egreso      68801.51\n",
       "4    2022-06-21       Nómina      12128.94\n",
       "..          ...          ...           ...\n",
       "78   2025-08-18         Pago          0.00\n",
       "79   2025-08-21       Egreso      25305.43\n",
       "80   2025-08-22       Nómina       4690.03\n",
       "81   2025-08-28      Ingreso      34976.84\n",
       "82   2025-08-30       Egreso      81360.65\n",
       "\n",
       "[83 rows x 3 columns]"
      ]
     },
     "execution_count": 91,
     "metadata": {},
     "output_type": "execute_result"
    }
   ],
   "source": [
    "df_invoices_inflow.reset_index()"
   ]
  },
  {
   "cell_type": "code",
   "execution_count": 92,
   "id": "329bcc0c",
   "metadata": {},
   "outputs": [
    {
     "data": {
      "text/html": [
       "<div>\n",
       "<style scoped>\n",
       "    .dataframe tbody tr th:only-of-type {\n",
       "        vertical-align: middle;\n",
       "    }\n",
       "\n",
       "    .dataframe tbody tr th {\n",
       "        vertical-align: top;\n",
       "    }\n",
       "\n",
       "    .dataframe thead th {\n",
       "        text-align: right;\n",
       "    }\n",
       "</style>\n",
       "<table border=\"1\" class=\"dataframe\">\n",
       "  <thead>\n",
       "    <tr style=\"text-align: right;\">\n",
       "      <th></th>\n",
       "      <th>invoice_date</th>\n",
       "      <th>invoice_type</th>\n",
       "      <th>total_amount</th>\n",
       "    </tr>\n",
       "  </thead>\n",
       "  <tbody>\n",
       "    <tr>\n",
       "      <th>0</th>\n",
       "      <td>2022-01-01</td>\n",
       "      <td>Traslado</td>\n",
       "      <td>88717.12</td>\n",
       "    </tr>\n",
       "    <tr>\n",
       "      <th>1</th>\n",
       "      <td>2022-01-27</td>\n",
       "      <td>Ingreso</td>\n",
       "      <td>146254.37</td>\n",
       "    </tr>\n",
       "    <tr>\n",
       "      <th>2</th>\n",
       "      <td>2022-02-27</td>\n",
       "      <td>Egreso</td>\n",
       "      <td>68135.40</td>\n",
       "    </tr>\n",
       "    <tr>\n",
       "      <th>3</th>\n",
       "      <td>2022-03-17</td>\n",
       "      <td>Ingreso</td>\n",
       "      <td>15844.82</td>\n",
       "    </tr>\n",
       "    <tr>\n",
       "      <th>4</th>\n",
       "      <td>2022-04-28</td>\n",
       "      <td>Nómina</td>\n",
       "      <td>6915.39</td>\n",
       "    </tr>\n",
       "    <tr>\n",
       "      <th>...</th>\n",
       "      <td>...</td>\n",
       "      <td>...</td>\n",
       "      <td>...</td>\n",
       "    </tr>\n",
       "    <tr>\n",
       "      <th>66</th>\n",
       "      <td>2025-07-26</td>\n",
       "      <td>Traslado</td>\n",
       "      <td>13876.07</td>\n",
       "    </tr>\n",
       "    <tr>\n",
       "      <th>67</th>\n",
       "      <td>2025-08-19</td>\n",
       "      <td>Nómina</td>\n",
       "      <td>7265.86</td>\n",
       "    </tr>\n",
       "    <tr>\n",
       "      <th>68</th>\n",
       "      <td>2025-08-22</td>\n",
       "      <td>Ingreso</td>\n",
       "      <td>121976.39</td>\n",
       "    </tr>\n",
       "    <tr>\n",
       "      <th>69</th>\n",
       "      <td>2025-08-23</td>\n",
       "      <td>Egreso</td>\n",
       "      <td>104506.15</td>\n",
       "    </tr>\n",
       "    <tr>\n",
       "      <th>70</th>\n",
       "      <td>2025-08-23</td>\n",
       "      <td>Nómina</td>\n",
       "      <td>1087.72</td>\n",
       "    </tr>\n",
       "  </tbody>\n",
       "</table>\n",
       "<p>71 rows × 3 columns</p>\n",
       "</div>"
      ],
      "text/plain": [
       "   invoice_date invoice_type  total_amount\n",
       "0    2022-01-01     Traslado      88717.12\n",
       "1    2022-01-27      Ingreso     146254.37\n",
       "2    2022-02-27       Egreso      68135.40\n",
       "3    2022-03-17      Ingreso      15844.82\n",
       "4    2022-04-28       Nómina       6915.39\n",
       "..          ...          ...           ...\n",
       "66   2025-07-26     Traslado      13876.07\n",
       "67   2025-08-19       Nómina       7265.86\n",
       "68   2025-08-22      Ingreso     121976.39\n",
       "69   2025-08-23       Egreso     104506.15\n",
       "70   2025-08-23       Nómina       1087.72\n",
       "\n",
       "[71 rows x 3 columns]"
      ]
     },
     "execution_count": 92,
     "metadata": {},
     "output_type": "execute_result"
    }
   ],
   "source": [
    "df_invoices_outflow.reset_index()"
   ]
  },
  {
   "cell_type": "code",
   "execution_count": null,
   "id": "60a17b57",
   "metadata": {},
   "outputs": [],
   "source": []
  }
 ],
 "metadata": {
  "kernelspec": {
   "display_name": "belvo",
   "language": "python",
   "name": "python3"
  },
  "language_info": {
   "codemirror_mode": {
    "name": "ipython",
    "version": 3
   },
   "file_extension": ".py",
   "mimetype": "text/x-python",
   "name": "python",
   "nbconvert_exporter": "python",
   "pygments_lexer": "ipython3",
   "version": "3.12.11"
  }
 },
 "nbformat": 4,
 "nbformat_minor": 5
}

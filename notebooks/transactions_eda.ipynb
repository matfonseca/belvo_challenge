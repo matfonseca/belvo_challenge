{
 "cells": [
  {
   "cell_type": "code",
   "execution_count": 5,
   "metadata": {},
   "outputs": [],
   "source": [
    "from dotenv import load_dotenv\n",
    "import os\n",
    "import sys\n",
    "\n",
    "sys.path.append('../')\n",
    "\n",
    "load_dotenv()\n",
    "\n",
    "config = {\n",
    "    \"base_url\": os.getenv(\"BASE_URL\"),\n",
    "    \"client_id\": os.getenv(\"CLIENT_ID\"),\n",
    "    \"client_secret\": os.getenv(\"CLIENT_SECRET\")\n",
    "}\n"
   ]
  },
  {
   "cell_type": "code",
   "execution_count": 6,
   "metadata": {},
   "outputs": [
    {
     "name": "stdout",
     "output_type": "stream",
     "text": [
      "Página: 2\n"
     ]
    }
   ],
   "source": [
    "import re\n",
    "\n",
    "def get_page(url):\n",
    "    \"\"\"\n",
    "    Devuelve el número de página de una URL.\n",
    "    \"\"\"\n",
    "    match = re.search(r'page=(\\d+)', url)\n",
    "    if match:\n",
    "        return int(match.group(1))\n",
    "\n",
    "url = 'https://sandbox.belvo.com/api/transactions/?link=e0f02811-39f3-4c08-be2d-b65476e13ff5&page=2'\n",
    "\n",
    "page_number = get_page(url)\n",
    "print(f\"Página: {page_number}\")"
   ]
  },
  {
   "cell_type": "code",
   "execution_count": null,
   "metadata": {},
   "outputs": [
    {
     "name": "stdout",
     "output_type": "stream",
     "text": [
      "1\n",
      "2\n",
      "3\n",
      "4\n",
      "5\n",
      "6\n",
      "7\n",
      "8\n",
      "9\n",
      "10\n",
      "11\n",
      "12\n",
      "13\n",
      "14\n",
      "15\n",
      "16\n",
      "17\n",
      "18\n",
      "19\n",
      "20\n",
      "21\n",
      "22\n",
      "23\n"
     ]
    }
   ],
   "source": [
    "from services.ofda_service import OFDAService\n",
    "\n",
    "ofda_service = OFDAService(config)\n",
    "all_transactions = []\n",
    "link_id = 'e0f02811-39f3-4c08-be2d-b65476e13ff5'\n",
    "\n",
    "page= 1\n",
    "\n",
    "while page:\n",
    "    transactions = ofda_service.get_transactions(link_id,page)\n",
    "    all_transactions.extend(transactions['results'])\n",
    "    page = get_page(transactions['next']) if transactions['next'] else None"
   ]
  },
  {
   "cell_type": "code",
   "execution_count": 10,
   "metadata": {},
   "outputs": [
    {
     "data": {
      "text/plain": [
       "2294"
      ]
     },
     "execution_count": 10,
     "metadata": {},
     "output_type": "execute_result"
    }
   ],
   "source": [
    "len(all_transactions)"
   ]
  },
  {
   "cell_type": "code",
   "execution_count": 12,
   "metadata": {},
   "outputs": [],
   "source": [
    "import pandas as pd \n",
    "df = pd.DataFrame(all_transactions)"
   ]
  },
  {
   "cell_type": "code",
   "execution_count": 13,
   "metadata": {},
   "outputs": [
    {
     "name": "stdout",
     "output_type": "stream",
     "text": [
      "<class 'pandas.core.frame.DataFrame'>\n",
      "RangeIndex: 2294 entries, 0 to 2293\n",
      "Data columns (total 29 columns):\n",
      " #   Column                          Non-Null Count  Dtype  \n",
      "---  ------                          --------------  -----  \n",
      " 0   id                              2294 non-null   object \n",
      " 1   account                         2294 non-null   object \n",
      " 2   created_at                      2294 non-null   object \n",
      " 3   category                        0 non-null      object \n",
      " 4   subcategory                     0 non-null      object \n",
      " 5   merchant                        0 non-null      object \n",
      " 6   mcc                             0 non-null      object \n",
      " 7   type                            2294 non-null   object \n",
      " 8   amount                          2294 non-null   float64\n",
      " 9   status                          2294 non-null   object \n",
      " 10  balance                         0 non-null      object \n",
      " 11  currency                        2294 non-null   object \n",
      " 12  loan_data                       0 non-null      object \n",
      " 13  reference                       0 non-null      object \n",
      " 14  value_date                      2294 non-null   object \n",
      " 15  description                     2294 non-null   object \n",
      " 16  collected_at                    2294 non-null   object \n",
      " 17  counterparty                    2294 non-null   object \n",
      " 18  observations                    0 non-null      object \n",
      " 19  payment_type                    0 non-null      object \n",
      " 20  transacted_at                   2294 non-null   object \n",
      " 21  operation_type                  2294 non-null   object \n",
      " 22  accounting_date                 0 non-null      object \n",
      " 23  credit_card_data                0 non-null      object \n",
      " 24  local_currency_amount           0 non-null      object \n",
      " 25  internal_identification         2294 non-null   object \n",
      " 26  inferred_accounting_date        2294 non-null   object \n",
      " 27  local_datetime_transacted_at    0 non-null      object \n",
      " 28  operation_type_additional_info  0 non-null      object \n",
      "dtypes: float64(1), object(28)\n",
      "memory usage: 519.9+ KB\n"
     ]
    }
   ],
   "source": [
    "df.info()"
   ]
  },
  {
   "cell_type": "code",
   "execution_count": 14,
   "metadata": {},
   "outputs": [],
   "source": [
    "df = df.dropna(axis=1, how='any').copy()"
   ]
  },
  {
   "cell_type": "code",
   "execution_count": 15,
   "metadata": {},
   "outputs": [
    {
     "name": "stdout",
     "output_type": "stream",
     "text": [
      "<class 'pandas.core.frame.DataFrame'>\n",
      "RangeIndex: 2294 entries, 0 to 2293\n",
      "Data columns (total 15 columns):\n",
      " #   Column                    Non-Null Count  Dtype  \n",
      "---  ------                    --------------  -----  \n",
      " 0   id                        2294 non-null   object \n",
      " 1   account                   2294 non-null   object \n",
      " 2   created_at                2294 non-null   object \n",
      " 3   type                      2294 non-null   object \n",
      " 4   amount                    2294 non-null   float64\n",
      " 5   status                    2294 non-null   object \n",
      " 6   currency                  2294 non-null   object \n",
      " 7   value_date                2294 non-null   object \n",
      " 8   description               2294 non-null   object \n",
      " 9   collected_at              2294 non-null   object \n",
      " 10  counterparty              2294 non-null   object \n",
      " 11  transacted_at             2294 non-null   object \n",
      " 12  operation_type            2294 non-null   object \n",
      " 13  internal_identification   2294 non-null   object \n",
      " 14  inferred_accounting_date  2294 non-null   object \n",
      "dtypes: float64(1), object(14)\n",
      "memory usage: 269.0+ KB\n"
     ]
    }
   ],
   "source": [
    "df.info()"
   ]
  },
  {
   "cell_type": "code",
   "execution_count": 16,
   "metadata": {},
   "outputs": [
    {
     "data": {
      "text/html": [
       "<div>\n",
       "<style scoped>\n",
       "    .dataframe tbody tr th:only-of-type {\n",
       "        vertical-align: middle;\n",
       "    }\n",
       "\n",
       "    .dataframe tbody tr th {\n",
       "        vertical-align: top;\n",
       "    }\n",
       "\n",
       "    .dataframe thead th {\n",
       "        text-align: right;\n",
       "    }\n",
       "</style>\n",
       "<table border=\"1\" class=\"dataframe\">\n",
       "  <thead>\n",
       "    <tr style=\"text-align: right;\">\n",
       "      <th></th>\n",
       "      <th>id</th>\n",
       "      <th>account</th>\n",
       "      <th>created_at</th>\n",
       "      <th>type</th>\n",
       "      <th>amount</th>\n",
       "      <th>status</th>\n",
       "      <th>currency</th>\n",
       "      <th>value_date</th>\n",
       "      <th>description</th>\n",
       "      <th>collected_at</th>\n",
       "      <th>counterparty</th>\n",
       "      <th>transacted_at</th>\n",
       "      <th>operation_type</th>\n",
       "      <th>internal_identification</th>\n",
       "      <th>inferred_accounting_date</th>\n",
       "    </tr>\n",
       "  </thead>\n",
       "  <tbody>\n",
       "    <tr>\n",
       "      <th>0</th>\n",
       "      <td>00017ce9-4a85-49bf-9e21-2842f06ff5d5</td>\n",
       "      <td>{'id': '5b2073be-5ed5-48bb-8d42-242c9402eb8d',...</td>\n",
       "      <td>2025-07-31T11:59:14.680861Z</td>\n",
       "      <td>OUTFLOW</td>\n",
       "      <td>771.52</td>\n",
       "      <td>PROCESSED</td>\n",
       "      <td>BRL</td>\n",
       "      <td>2025-01-25</td>\n",
       "      <td>PAGAMENTO</td>\n",
       "      <td>2025-07-31T11:58:56.032624Z</td>\n",
       "      <td>{'name': None, 'type': 'INDIVIDUAL', 'agency':...</td>\n",
       "      <td>2025-01-25T03:01:13.613Z</td>\n",
       "      <td>CARTAO</td>\n",
       "      <td>20279336-7e3c-4628-8301-7f7ff43aa5a1</td>\n",
       "      <td>2025-01-27</td>\n",
       "    </tr>\n",
       "    <tr>\n",
       "      <th>1</th>\n",
       "      <td>0029a175-8a99-4695-beb7-bfccf50365cf</td>\n",
       "      <td>{'id': '5b2073be-5ed5-48bb-8d42-242c9402eb8d',...</td>\n",
       "      <td>2025-07-31T11:59:14.702401Z</td>\n",
       "      <td>OUTFLOW</td>\n",
       "      <td>771.52</td>\n",
       "      <td>PROCESSED</td>\n",
       "      <td>BRL</td>\n",
       "      <td>2025-01-22</td>\n",
       "      <td>PAGAMENTO</td>\n",
       "      <td>2025-07-31T11:58:56.407697Z</td>\n",
       "      <td>{'name': None, 'type': 'INDIVIDUAL', 'agency':...</td>\n",
       "      <td>2025-01-22T03:01:13.613Z</td>\n",
       "      <td>CARTAO</td>\n",
       "      <td>3b6839e5-1aeb-4f40-8faf-58b7729c3d56</td>\n",
       "      <td>2025-01-22</td>\n",
       "    </tr>\n",
       "    <tr>\n",
       "      <th>2</th>\n",
       "      <td>006f7aa4-c8b0-4416-aa80-8373badeb0e4</td>\n",
       "      <td>{'id': '5b2073be-5ed5-48bb-8d42-242c9402eb8d',...</td>\n",
       "      <td>2025-07-31T11:59:14.670951Z</td>\n",
       "      <td>OUTFLOW</td>\n",
       "      <td>771.52</td>\n",
       "      <td>PROCESSED</td>\n",
       "      <td>BRL</td>\n",
       "      <td>2025-01-27</td>\n",
       "      <td>PAGAMENTO</td>\n",
       "      <td>2025-07-31T11:58:55.920124Z</td>\n",
       "      <td>{'name': None, 'type': 'INDIVIDUAL', 'agency':...</td>\n",
       "      <td>2025-01-27T03:01:13.613Z</td>\n",
       "      <td>CARTAO</td>\n",
       "      <td>2b686d54-8971-4df4-842a-c2bd0fb49f20</td>\n",
       "      <td>2025-01-27</td>\n",
       "    </tr>\n",
       "    <tr>\n",
       "      <th>3</th>\n",
       "      <td>0077a313-08e9-4258-ab1a-f9ebc330ac46</td>\n",
       "      <td>{'id': '50ae652a-41b9-44d9-a5cb-7ed6203c733a',...</td>\n",
       "      <td>2025-07-31T11:59:14.691694Z</td>\n",
       "      <td>OUTFLOW</td>\n",
       "      <td>771.52</td>\n",
       "      <td>PROCESSED</td>\n",
       "      <td>BRL</td>\n",
       "      <td>2025-01-23</td>\n",
       "      <td>PAGAMENTO</td>\n",
       "      <td>2025-07-31T11:59:10.827392Z</td>\n",
       "      <td>{'name': None, 'type': 'INDIVIDUAL', 'agency':...</td>\n",
       "      <td>2025-01-23T03:01:13.613Z</td>\n",
       "      <td>CARTAO</td>\n",
       "      <td>9096cb55-3b4f-4f7b-a1ff-a949bfe254ce</td>\n",
       "      <td>2025-01-23</td>\n",
       "    </tr>\n",
       "    <tr>\n",
       "      <th>4</th>\n",
       "      <td>0084da46-d916-429d-a33b-6726378e6156</td>\n",
       "      <td>{'id': '50ae652a-41b9-44d9-a5cb-7ed6203c733a',...</td>\n",
       "      <td>2025-07-31T11:59:14.579266Z</td>\n",
       "      <td>OUTFLOW</td>\n",
       "      <td>771.52</td>\n",
       "      <td>PROCESSED</td>\n",
       "      <td>BRL</td>\n",
       "      <td>2025-07-23</td>\n",
       "      <td>PAGAMENTO</td>\n",
       "      <td>2025-07-31T11:59:10.734838Z</td>\n",
       "      <td>{'name': None, 'type': 'INDIVIDUAL', 'agency':...</td>\n",
       "      <td>2025-07-23T03:01:13.613Z</td>\n",
       "      <td>CARTAO</td>\n",
       "      <td>eb528819-f66b-44f5-9594-0496641374af</td>\n",
       "      <td>2025-07-23</td>\n",
       "    </tr>\n",
       "  </tbody>\n",
       "</table>\n",
       "</div>"
      ],
      "text/plain": [
       "                                     id  \\\n",
       "0  00017ce9-4a85-49bf-9e21-2842f06ff5d5   \n",
       "1  0029a175-8a99-4695-beb7-bfccf50365cf   \n",
       "2  006f7aa4-c8b0-4416-aa80-8373badeb0e4   \n",
       "3  0077a313-08e9-4258-ab1a-f9ebc330ac46   \n",
       "4  0084da46-d916-429d-a33b-6726378e6156   \n",
       "\n",
       "                                             account  \\\n",
       "0  {'id': '5b2073be-5ed5-48bb-8d42-242c9402eb8d',...   \n",
       "1  {'id': '5b2073be-5ed5-48bb-8d42-242c9402eb8d',...   \n",
       "2  {'id': '5b2073be-5ed5-48bb-8d42-242c9402eb8d',...   \n",
       "3  {'id': '50ae652a-41b9-44d9-a5cb-7ed6203c733a',...   \n",
       "4  {'id': '50ae652a-41b9-44d9-a5cb-7ed6203c733a',...   \n",
       "\n",
       "                    created_at     type  amount     status currency  \\\n",
       "0  2025-07-31T11:59:14.680861Z  OUTFLOW  771.52  PROCESSED      BRL   \n",
       "1  2025-07-31T11:59:14.702401Z  OUTFLOW  771.52  PROCESSED      BRL   \n",
       "2  2025-07-31T11:59:14.670951Z  OUTFLOW  771.52  PROCESSED      BRL   \n",
       "3  2025-07-31T11:59:14.691694Z  OUTFLOW  771.52  PROCESSED      BRL   \n",
       "4  2025-07-31T11:59:14.579266Z  OUTFLOW  771.52  PROCESSED      BRL   \n",
       "\n",
       "   value_date description                 collected_at  \\\n",
       "0  2025-01-25   PAGAMENTO  2025-07-31T11:58:56.032624Z   \n",
       "1  2025-01-22   PAGAMENTO  2025-07-31T11:58:56.407697Z   \n",
       "2  2025-01-27   PAGAMENTO  2025-07-31T11:58:55.920124Z   \n",
       "3  2025-01-23   PAGAMENTO  2025-07-31T11:59:10.827392Z   \n",
       "4  2025-07-23   PAGAMENTO  2025-07-31T11:59:10.734838Z   \n",
       "\n",
       "                                        counterparty  \\\n",
       "0  {'name': None, 'type': 'INDIVIDUAL', 'agency':...   \n",
       "1  {'name': None, 'type': 'INDIVIDUAL', 'agency':...   \n",
       "2  {'name': None, 'type': 'INDIVIDUAL', 'agency':...   \n",
       "3  {'name': None, 'type': 'INDIVIDUAL', 'agency':...   \n",
       "4  {'name': None, 'type': 'INDIVIDUAL', 'agency':...   \n",
       "\n",
       "              transacted_at operation_type  \\\n",
       "0  2025-01-25T03:01:13.613Z         CARTAO   \n",
       "1  2025-01-22T03:01:13.613Z         CARTAO   \n",
       "2  2025-01-27T03:01:13.613Z         CARTAO   \n",
       "3  2025-01-23T03:01:13.613Z         CARTAO   \n",
       "4  2025-07-23T03:01:13.613Z         CARTAO   \n",
       "\n",
       "                internal_identification inferred_accounting_date  \n",
       "0  20279336-7e3c-4628-8301-7f7ff43aa5a1               2025-01-27  \n",
       "1  3b6839e5-1aeb-4f40-8faf-58b7729c3d56               2025-01-22  \n",
       "2  2b686d54-8971-4df4-842a-c2bd0fb49f20               2025-01-27  \n",
       "3  9096cb55-3b4f-4f7b-a1ff-a949bfe254ce               2025-01-23  \n",
       "4  eb528819-f66b-44f5-9594-0496641374af               2025-07-23  "
      ]
     },
     "execution_count": 16,
     "metadata": {},
     "output_type": "execute_result"
    }
   ],
   "source": [
    "df.head()"
   ]
  },
  {
   "cell_type": "code",
   "execution_count": 17,
   "metadata": {},
   "outputs": [
    {
     "data": {
      "text/plain": [
       "type\n",
       "OUTFLOW    2294\n",
       "Name: count, dtype: int64"
      ]
     },
     "execution_count": 17,
     "metadata": {},
     "output_type": "execute_result"
    }
   ],
   "source": [
    "df['type'].value_counts()"
   ]
  },
  {
   "cell_type": "code",
   "execution_count": 18,
   "metadata": {},
   "outputs": [
    {
     "data": {
      "text/plain": [
       "status\n",
       "PROCESSED    2294\n",
       "Name: count, dtype: int64"
      ]
     },
     "execution_count": 18,
     "metadata": {},
     "output_type": "execute_result"
    }
   ],
   "source": [
    "df.status.value_counts()"
   ]
  },
  {
   "cell_type": "code",
   "execution_count": 19,
   "metadata": {},
   "outputs": [
    {
     "data": {
      "text/plain": [
       "currency\n",
       "BRL    2294\n",
       "Name: count, dtype: int64"
      ]
     },
     "execution_count": 19,
     "metadata": {},
     "output_type": "execute_result"
    }
   ],
   "source": [
    "df.currency.value_counts()"
   ]
  },
  {
   "cell_type": "code",
   "execution_count": 20,
   "metadata": {},
   "outputs": [
    {
     "data": {
      "text/plain": [
       "('2024-08-05', '2025-07-28')"
      ]
     },
     "execution_count": 20,
     "metadata": {},
     "output_type": "execute_result"
    }
   ],
   "source": [
    "min(df.value_date), max(df.value_date)"
   ]
  },
  {
   "cell_type": "code",
   "execution_count": 21,
   "metadata": {},
   "outputs": [
    {
     "data": {
      "text/plain": [
       "operation_type\n",
       "CARTAO    2294\n",
       "Name: count, dtype: int64"
      ]
     },
     "execution_count": 21,
     "metadata": {},
     "output_type": "execute_result"
    }
   ],
   "source": [
    "df.operation_type.value_counts()"
   ]
  },
  {
   "cell_type": "code",
   "execution_count": 22,
   "metadata": {},
   "outputs": [
    {
     "data": {
      "text/plain": [
       "counterparty\n",
       "{'name': None, 'type': 'INDIVIDUAL', 'agency': '6272', 'number': '94088392', 'check_digit': '4', 'clearing_code': '123', 'document_number': '87517400444'}    2294\n",
       "Name: count, dtype: int64"
      ]
     },
     "execution_count": 22,
     "metadata": {},
     "output_type": "execute_result"
    }
   ],
   "source": [
    "df.counterparty.value_counts()"
   ]
  },
  {
   "cell_type": "code",
   "execution_count": 23,
   "metadata": {},
   "outputs": [
    {
     "data": {
      "text/plain": [
       "account\n",
       "{'id': '50ae652a-41b9-44d9-a5cb-7ed6203c733a', 'link': 'e0f02811-39f3-4c08-be2d-b65476e13ff5', 'institution': {'name': 'ofmockbank_br_retail', 'type': 'bank'}, 'created_at': '2025-07-31T11:35:36.384280Z', 'name': 'Sib Bank', 'type': 'CONTA_POUPANCA', 'agency': '6272', 'number': '11188222', 'balance': {'blocked': 999.99, 'current': 15000.0, 'available': 41233.07, 'automatically_invested': 15000.0}, 'subtype': 'INDIVIDUAL', 'category': 'SAVINGS_ACCOUNT', 'currency': 'BRL', 'overdraft': {'used': 12345.4, 'arranged': 100.0, 'unarranged': 100.0}, 'check_digit': '4', 'balance_type': 'ASSET', 'collected_at': '2025-07-31T12:45:59.879051Z', 'clearing_code': '123', 'internal_identification': '291e5a29-49ed-401f-a583-193caa7acddd', 'public_identification_name': 'AGENCY/NUMBER', 'public_identification_value': '6272/11188222'}                     1234\n",
       "{'id': '5b2073be-5ed5-48bb-8d42-242c9402eb8d', 'link': 'e0f02811-39f3-4c08-be2d-b65476e13ff5', 'institution': {'name': 'ofmockbank_br_retail', 'type': 'bank'}, 'created_at': '2025-07-31T11:35:36.384356Z', 'name': 'Sib Bank', 'type': 'CONTA_DEPOSITO_A_VISTA', 'agency': '6272', 'number': '94088392', 'balance': {'blocked': 12345.0001, 'current': 15000.0, 'available': 100000000.04, 'automatically_invested': 15000.0}, 'subtype': 'INDIVIDUAL', 'category': 'CHECKING_ACCOUNT', 'currency': 'BRL', 'overdraft': {'used': 10001.0, 'arranged': 100.0, 'unarranged': 100.0}, 'check_digit': '4', 'balance_type': 'ASSET', 'collected_at': '2025-07-31T12:46:01.443399Z', 'clearing_code': '123', 'internal_identification': '291e5a29-49ed-401f-a583-193caa7aceee', 'public_identification_name': 'AGENCY/NUMBER', 'public_identification_value': '6272/94088392'}    1060\n",
       "Name: count, dtype: int64"
      ]
     },
     "execution_count": 23,
     "metadata": {},
     "output_type": "execute_result"
    }
   ],
   "source": [
    "df.account.value_counts()"
   ]
  },
  {
   "cell_type": "markdown",
   "metadata": {},
   "source": [
    "# Transaction Data Analysis Summary\n",
    "\n",
    "## Dataset Overview\n",
    "- **Total Records**: 2,294 transactions\n",
    "- **Date Range**: August 5, 2024 to July 28, 2025\n",
    "- **Currency**: BRL (Brazilian Real)\n",
    "\n",
    "## Data Distribution\n",
    "\n",
    "### Transaction Types\n",
    "- **OUTFLOW**: 2,294 records\n",
    "- All transactions appear to be outgoing payments\n",
    "\n",
    "### Transaction Status\n",
    "- **PROCESSED**: 2,294 records\n",
    "- All transactions have been successfully processed\n",
    "\n",
    "### Operation Type\n",
    "- **CARTAO**: 2,294 records\n",
    "- All transactions are card-based operations\n",
    "\n",
    "### Counterparty Information\n",
    "- Contains structured data with fields:\n",
    "  - `name`: Individual names (some None values)\n",
    "  - `type`: \"INDIVIDUAL\" \n",
    "  - `agency`: \"6272\"\n",
    "  - `number`: Various account numbers (e.g., \"94088392\")\n",
    "  - `check_digit`: \"4\"\n",
    "  - `clearing_code`: Present in records\n",
    "\n",
    "### Account Information\n",
    "- Multiple account identifications present:\n",
    "  - Agency/Number combinations like \"6272/11188222\" and \"6272/94088392\"\n",
    "  - Different account holders with varying identification numbers\n",
    "\n",
    "## Key Insights\n",
    "- This appears to be a dataset of card-based outflow transactions\n",
    "- All transactions are in Brazilian Real (BRL)\n",
    "- Data spans approximately 11 months\n",
    "- All transactions have been successfully processed\n",
    "- Consistent agency code (6272) suggests transactions from the same financial institution\n"
   ]
  },
  {
   "cell_type": "markdown",
   "metadata": {},
   "source": []
  }
 ],
 "metadata": {
  "kernelspec": {
   "display_name": "belvo",
   "language": "python",
   "name": "python3"
  },
  "language_info": {
   "codemirror_mode": {
    "name": "ipython",
    "version": 3
   },
   "file_extension": ".py",
   "mimetype": "text/x-python",
   "name": "python",
   "nbconvert_exporter": "python",
   "pygments_lexer": "ipython3",
   "version": "3.12.11"
  }
 },
 "nbformat": 4,
 "nbformat_minor": 2
}

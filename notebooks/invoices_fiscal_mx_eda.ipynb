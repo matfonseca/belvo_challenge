{
 "cells": [
  {
   "cell_type": "code",
   "execution_count": 1,
   "id": "b2b77ee8",
   "metadata": {},
   "outputs": [],
   "source": [
    "from dotenv import load_dotenv\n",
    "import os\n",
    "import sys\n",
    "\n",
    "sys.path.append('../')\n",
    "\n",
    "load_dotenv()\n",
    "\n",
    "config = {\n",
    "    \"base_url\": os.getenv(\"BASE_URL\"),\n",
    "    \"client_id\": os.getenv(\"CLIENT_ID\"),\n",
    "    \"client_secret\": os.getenv(\"CLIENT_SECRET\")\n",
    "}\n"
   ]
  },
  {
   "cell_type": "code",
   "execution_count": 2,
   "id": "2d15e8e5",
   "metadata": {},
   "outputs": [],
   "source": [
    "import re\n",
    "\n",
    "def get_page(url):\n",
    "    \"\"\"\n",
    "    Devuelve el número de página de una URL.\n",
    "    \"\"\"\n",
    "    match = re.search(r'page=(\\d+)', url)\n",
    "    if match:\n",
    "        return int(match.group(1))\n"
   ]
  },
  {
   "cell_type": "code",
   "execution_count": 3,
   "id": "83989ebb",
   "metadata": {},
   "outputs": [],
   "source": [
    "from services.fiscal_mx_service import FiscalMXService\n",
    "\n",
    "fiscal_mx_service = FiscalMXService(config)\n",
    "all_invoices = []\n",
    "link_id = 'c4432b21-b248-4bff-ab46-05ec06a22da1'\n",
    "\n",
    "page= 1\n",
    "\n",
    "while page:\n",
    "    invoices = fiscal_mx_service.get_invoices(link_id,page)\n",
    "    all_invoices.extend(invoices['results'])\n",
    "    page = get_page(invoices['next']) if invoices['next'] else None"
   ]
  },
  {
   "cell_type": "code",
   "execution_count": 4,
   "id": "4b2b79a3",
   "metadata": {},
   "outputs": [],
   "source": [
    "import pandas as pd\n",
    "\n",
    "df = pd.DataFrame(all_invoices)"
   ]
  },
  {
   "cell_type": "code",
   "execution_count": 5,
   "id": "d74d865e",
   "metadata": {},
   "outputs": [
    {
     "name": "stdout",
     "output_type": "stream",
     "text": [
      "<class 'pandas.core.frame.DataFrame'>\n",
      "RangeIndex: 160 entries, 0 to 159\n",
      "Data columns (total 37 columns):\n",
      " #   Column                      Non-Null Count  Dtype  \n",
      "---  ------                      --------------  -----  \n",
      " 0   id                          160 non-null    object \n",
      " 1   link                        160 non-null    object \n",
      " 2   created_at                  160 non-null    object \n",
      " 3   type                        160 non-null    object \n",
      " 4   folio                       0 non-null      object \n",
      " 5   usage                       160 non-null    object \n",
      " 6   status                      160 non-null    object \n",
      " 7   payroll                     160 non-null    object \n",
      " 8   version                     160 non-null    object \n",
      " 9   currency                    0 non-null      object \n",
      " 10  payments                    160 non-null    object \n",
      " 11  warnings                    0 non-null      object \n",
      " 12  sender_id                   160 non-null    object \n",
      " 13  tax_amount                  160 non-null    float64\n",
      " 14  receiver_id                 160 non-null    object \n",
      " 15  sender_name                 160 non-null    object \n",
      " 16  collected_at                160 non-null    object \n",
      " 17  invoice_date                160 non-null    object \n",
      " 18  invoice_type                160 non-null    object \n",
      " 19  payment_type                160 non-null    object \n",
      " 20  total_amount                160 non-null    float64\n",
      " 21  exchange_rate               160 non-null    int64  \n",
      " 22  receiver_name               160 non-null    object \n",
      " 23  payment_method              160 non-null    object \n",
      " 24  place_of_issue              160 non-null    object \n",
      " 25  discount_amount             160 non-null    float64\n",
      " 26  invoice_details             160 non-null    object \n",
      " 27  subtotal_amount             160 non-null    float64\n",
      " 28  cancelation_status          0 non-null      object \n",
      " 29  certification_date          160 non-null    object \n",
      " 30  invoice_identification      160 non-null    object \n",
      " 31  cancelation_update_date     0 non-null      object \n",
      " 32  certification_authority     160 non-null    object \n",
      " 33  sender_tax_fraud_status     0 non-null      object \n",
      " 34  payment_type_description    0 non-null      object \n",
      " 35  receiver_tax_fraud_status   0 non-null      object \n",
      " 36  payment_method_description  0 non-null      object \n",
      "dtypes: float64(4), int64(1), object(32)\n",
      "memory usage: 46.4+ KB\n"
     ]
    }
   ],
   "source": [
    "df.info()"
   ]
  },
  {
   "cell_type": "code",
   "execution_count": 6,
   "id": "3bf277bd",
   "metadata": {},
   "outputs": [],
   "source": [
    "df = df.dropna(axis=1, how='any').copy()"
   ]
  },
  {
   "cell_type": "code",
   "execution_count": 7,
   "id": "297a7386",
   "metadata": {},
   "outputs": [
    {
     "name": "stdout",
     "output_type": "stream",
     "text": [
      "<class 'pandas.core.frame.DataFrame'>\n",
      "RangeIndex: 160 entries, 0 to 159\n",
      "Data columns (total 28 columns):\n",
      " #   Column                   Non-Null Count  Dtype  \n",
      "---  ------                   --------------  -----  \n",
      " 0   id                       160 non-null    object \n",
      " 1   link                     160 non-null    object \n",
      " 2   created_at               160 non-null    object \n",
      " 3   type                     160 non-null    object \n",
      " 4   usage                    160 non-null    object \n",
      " 5   status                   160 non-null    object \n",
      " 6   payroll                  160 non-null    object \n",
      " 7   version                  160 non-null    object \n",
      " 8   payments                 160 non-null    object \n",
      " 9   sender_id                160 non-null    object \n",
      " 10  tax_amount               160 non-null    float64\n",
      " 11  receiver_id              160 non-null    object \n",
      " 12  sender_name              160 non-null    object \n",
      " 13  collected_at             160 non-null    object \n",
      " 14  invoice_date             160 non-null    object \n",
      " 15  invoice_type             160 non-null    object \n",
      " 16  payment_type             160 non-null    object \n",
      " 17  total_amount             160 non-null    float64\n",
      " 18  exchange_rate            160 non-null    int64  \n",
      " 19  receiver_name            160 non-null    object \n",
      " 20  payment_method           160 non-null    object \n",
      " 21  place_of_issue           160 non-null    object \n",
      " 22  discount_amount          160 non-null    float64\n",
      " 23  invoice_details          160 non-null    object \n",
      " 24  subtotal_amount          160 non-null    float64\n",
      " 25  certification_date       160 non-null    object \n",
      " 26  invoice_identification   160 non-null    object \n",
      " 27  certification_authority  160 non-null    object \n",
      "dtypes: float64(4), int64(1), object(23)\n",
      "memory usage: 35.1+ KB\n"
     ]
    }
   ],
   "source": [
    "df.info()"
   ]
  },
  {
   "cell_type": "code",
   "execution_count": 8,
   "id": "6670b603",
   "metadata": {},
   "outputs": [
    {
     "data": {
      "text/html": [
       "<div>\n",
       "<style scoped>\n",
       "    .dataframe tbody tr th:only-of-type {\n",
       "        vertical-align: middle;\n",
       "    }\n",
       "\n",
       "    .dataframe tbody tr th {\n",
       "        vertical-align: top;\n",
       "    }\n",
       "\n",
       "    .dataframe thead th {\n",
       "        text-align: right;\n",
       "    }\n",
       "</style>\n",
       "<table border=\"1\" class=\"dataframe\">\n",
       "  <thead>\n",
       "    <tr style=\"text-align: right;\">\n",
       "      <th></th>\n",
       "      <th>id</th>\n",
       "      <th>link</th>\n",
       "      <th>created_at</th>\n",
       "      <th>type</th>\n",
       "      <th>usage</th>\n",
       "      <th>status</th>\n",
       "      <th>payroll</th>\n",
       "      <th>version</th>\n",
       "      <th>payments</th>\n",
       "      <th>sender_id</th>\n",
       "      <th>...</th>\n",
       "      <th>exchange_rate</th>\n",
       "      <th>receiver_name</th>\n",
       "      <th>payment_method</th>\n",
       "      <th>place_of_issue</th>\n",
       "      <th>discount_amount</th>\n",
       "      <th>invoice_details</th>\n",
       "      <th>subtotal_amount</th>\n",
       "      <th>certification_date</th>\n",
       "      <th>invoice_identification</th>\n",
       "      <th>certification_authority</th>\n",
       "    </tr>\n",
       "  </thead>\n",
       "  <tbody>\n",
       "    <tr>\n",
       "      <th>0</th>\n",
       "      <td>67b1839f-13a9-4c07-a23d-cadf2645f05b</td>\n",
       "      <td>c4432b21-b248-4bff-ab46-05ec06a22da1</td>\n",
       "      <td>2025-07-31T12:00:44.246920Z</td>\n",
       "      <td>INFLOW</td>\n",
       "      <td>G03</td>\n",
       "      <td>Vigent</td>\n",
       "      <td>{'days': None, 'type': None, 'amount': 40.2, '...</td>\n",
       "      <td>3.3</td>\n",
       "      <td>[{'date': '2025-06-21T09:38:27.254442', 'amoun...</td>\n",
       "      <td>PEVS00050734I</td>\n",
       "      <td>...</td>\n",
       "      <td>1</td>\n",
       "      <td>Receptor F967</td>\n",
       "      <td>PUE</td>\n",
       "      <td>11000</td>\n",
       "      <td>0.0</td>\n",
       "      <td>[{'quantity': 1, 'unit_code': 'ACT', 'tax_amou...</td>\n",
       "      <td>0.00</td>\n",
       "      <td>2025-05-16T09:06:22.620431</td>\n",
       "      <td>4b11e71a-948a-3b5f-3634-9f783d3fc39</td>\n",
       "      <td>f224b774924b3</td>\n",
       "    </tr>\n",
       "    <tr>\n",
       "      <th>1</th>\n",
       "      <td>c57021f2-4055-4d72-84b5-6782a8707b33</td>\n",
       "      <td>c4432b21-b248-4bff-ab46-05ec06a22da1</td>\n",
       "      <td>2025-07-31T12:00:44.246899Z</td>\n",
       "      <td>INFLOW</td>\n",
       "      <td>G03</td>\n",
       "      <td>Vigent</td>\n",
       "      <td>{'days': None, 'type': None, 'amount': 40.2, '...</td>\n",
       "      <td>3.3</td>\n",
       "      <td>[]</td>\n",
       "      <td>REBF170804BSQ</td>\n",
       "      <td>...</td>\n",
       "      <td>1</td>\n",
       "      <td>Receptor 9264</td>\n",
       "      <td>PPD</td>\n",
       "      <td>11000</td>\n",
       "      <td>1278.0</td>\n",
       "      <td>[{'quantity': 5, 'unit_code': 'E48', 'tax_amou...</td>\n",
       "      <td>62068.55</td>\n",
       "      <td>2025-07-06T03:37:11.877383</td>\n",
       "      <td>fb12ad63-6c12-47bf-5565-b1e6b335a25</td>\n",
       "      <td>dacdbadfabdfe</td>\n",
       "    </tr>\n",
       "    <tr>\n",
       "      <th>2</th>\n",
       "      <td>1c0b33b0-9b06-4ccc-a354-44aca5b772b3</td>\n",
       "      <td>c4432b21-b248-4bff-ab46-05ec06a22da1</td>\n",
       "      <td>2025-07-31T12:00:44.246878Z</td>\n",
       "      <td>OUTFLOW</td>\n",
       "      <td>G03</td>\n",
       "      <td>Vigent</td>\n",
       "      <td>{'days': None, 'type': None, 'amount': 40.2, '...</td>\n",
       "      <td>3.3</td>\n",
       "      <td>[]</td>\n",
       "      <td>WONZ231224NY5</td>\n",
       "      <td>...</td>\n",
       "      <td>1</td>\n",
       "      <td>Receptor EFFA</td>\n",
       "      <td>PPD</td>\n",
       "      <td>11000</td>\n",
       "      <td>13044.0</td>\n",
       "      <td>[{'quantity': 9, 'unit_code': 'E48', 'tax_amou...</td>\n",
       "      <td>88995.27</td>\n",
       "      <td>2025-05-25T04:32:15.287479</td>\n",
       "      <td>fddc6c3d-ba7e-1627-72f7-fc8ae9314e5</td>\n",
       "      <td>2788274f4e78c</td>\n",
       "    </tr>\n",
       "    <tr>\n",
       "      <th>3</th>\n",
       "      <td>72248a88-5ae1-4860-9e1c-d003f14264f1</td>\n",
       "      <td>c4432b21-b248-4bff-ab46-05ec06a22da1</td>\n",
       "      <td>2025-07-31T12:00:44.246857Z</td>\n",
       "      <td>OUTFLOW</td>\n",
       "      <td>G03</td>\n",
       "      <td>Vigent</td>\n",
       "      <td>{'days': None, 'type': None, 'amount': 40.2, '...</td>\n",
       "      <td>3.3</td>\n",
       "      <td>[{'date': '2025-05-08T18:24:52.975934', 'amoun...</td>\n",
       "      <td>QIMV571204G07</td>\n",
       "      <td>...</td>\n",
       "      <td>1</td>\n",
       "      <td>Receptor 8342</td>\n",
       "      <td>PPD</td>\n",
       "      <td>11000</td>\n",
       "      <td>0.0</td>\n",
       "      <td>[{'quantity': 1, 'unit_code': 'ACT', 'tax_amou...</td>\n",
       "      <td>0.00</td>\n",
       "      <td>2025-06-28T02:01:29.781181</td>\n",
       "      <td>fe81c6c3-aa6c-ebc1-61db-38ad5d9fbce</td>\n",
       "      <td>9b3ee1e62c814</td>\n",
       "    </tr>\n",
       "    <tr>\n",
       "      <th>4</th>\n",
       "      <td>5d65feea-e140-496c-927d-085975a492a5</td>\n",
       "      <td>c4432b21-b248-4bff-ab46-05ec06a22da1</td>\n",
       "      <td>2025-07-31T12:00:44.246835Z</td>\n",
       "      <td>OUTFLOW</td>\n",
       "      <td>G03</td>\n",
       "      <td>Vigent</td>\n",
       "      <td>{'days': None, 'type': None, 'amount': 40.2, '...</td>\n",
       "      <td>3.3</td>\n",
       "      <td>[]</td>\n",
       "      <td>HEAA771128VCX</td>\n",
       "      <td>...</td>\n",
       "      <td>1</td>\n",
       "      <td>Receptor 1BAE</td>\n",
       "      <td>PPD</td>\n",
       "      <td>11000</td>\n",
       "      <td>9426.0</td>\n",
       "      <td>[{'quantity': 1, 'unit_code': 'E48', 'tax_amou...</td>\n",
       "      <td>65730.90</td>\n",
       "      <td>2025-07-13T08:50:14.313874</td>\n",
       "      <td>be296788-b2f2-1688-96a4-5497188d74e</td>\n",
       "      <td>fe5865f14f5fc</td>\n",
       "    </tr>\n",
       "  </tbody>\n",
       "</table>\n",
       "<p>5 rows × 28 columns</p>\n",
       "</div>"
      ],
      "text/plain": [
       "                                     id                                  link  \\\n",
       "0  67b1839f-13a9-4c07-a23d-cadf2645f05b  c4432b21-b248-4bff-ab46-05ec06a22da1   \n",
       "1  c57021f2-4055-4d72-84b5-6782a8707b33  c4432b21-b248-4bff-ab46-05ec06a22da1   \n",
       "2  1c0b33b0-9b06-4ccc-a354-44aca5b772b3  c4432b21-b248-4bff-ab46-05ec06a22da1   \n",
       "3  72248a88-5ae1-4860-9e1c-d003f14264f1  c4432b21-b248-4bff-ab46-05ec06a22da1   \n",
       "4  5d65feea-e140-496c-927d-085975a492a5  c4432b21-b248-4bff-ab46-05ec06a22da1   \n",
       "\n",
       "                    created_at     type usage  status  \\\n",
       "0  2025-07-31T12:00:44.246920Z   INFLOW   G03  Vigent   \n",
       "1  2025-07-31T12:00:44.246899Z   INFLOW   G03  Vigent   \n",
       "2  2025-07-31T12:00:44.246878Z  OUTFLOW   G03  Vigent   \n",
       "3  2025-07-31T12:00:44.246857Z  OUTFLOW   G03  Vigent   \n",
       "4  2025-07-31T12:00:44.246835Z  OUTFLOW   G03  Vigent   \n",
       "\n",
       "                                             payroll version  \\\n",
       "0  {'days': None, 'type': None, 'amount': 40.2, '...     3.3   \n",
       "1  {'days': None, 'type': None, 'amount': 40.2, '...     3.3   \n",
       "2  {'days': None, 'type': None, 'amount': 40.2, '...     3.3   \n",
       "3  {'days': None, 'type': None, 'amount': 40.2, '...     3.3   \n",
       "4  {'days': None, 'type': None, 'amount': 40.2, '...     3.3   \n",
       "\n",
       "                                            payments      sender_id  ...  \\\n",
       "0  [{'date': '2025-06-21T09:38:27.254442', 'amoun...  PEVS00050734I  ...   \n",
       "1                                                 []  REBF170804BSQ  ...   \n",
       "2                                                 []  WONZ231224NY5  ...   \n",
       "3  [{'date': '2025-05-08T18:24:52.975934', 'amoun...  QIMV571204G07  ...   \n",
       "4                                                 []  HEAA771128VCX  ...   \n",
       "\n",
       "   exchange_rate  receiver_name payment_method place_of_issue discount_amount  \\\n",
       "0              1  Receptor F967            PUE          11000             0.0   \n",
       "1              1  Receptor 9264            PPD          11000          1278.0   \n",
       "2              1  Receptor EFFA            PPD          11000         13044.0   \n",
       "3              1  Receptor 8342            PPD          11000             0.0   \n",
       "4              1  Receptor 1BAE            PPD          11000          9426.0   \n",
       "\n",
       "                                     invoice_details subtotal_amount  \\\n",
       "0  [{'quantity': 1, 'unit_code': 'ACT', 'tax_amou...            0.00   \n",
       "1  [{'quantity': 5, 'unit_code': 'E48', 'tax_amou...        62068.55   \n",
       "2  [{'quantity': 9, 'unit_code': 'E48', 'tax_amou...        88995.27   \n",
       "3  [{'quantity': 1, 'unit_code': 'ACT', 'tax_amou...            0.00   \n",
       "4  [{'quantity': 1, 'unit_code': 'E48', 'tax_amou...        65730.90   \n",
       "\n",
       "           certification_date               invoice_identification  \\\n",
       "0  2025-05-16T09:06:22.620431  4b11e71a-948a-3b5f-3634-9f783d3fc39   \n",
       "1  2025-07-06T03:37:11.877383  fb12ad63-6c12-47bf-5565-b1e6b335a25   \n",
       "2  2025-05-25T04:32:15.287479  fddc6c3d-ba7e-1627-72f7-fc8ae9314e5   \n",
       "3  2025-06-28T02:01:29.781181  fe81c6c3-aa6c-ebc1-61db-38ad5d9fbce   \n",
       "4  2025-07-13T08:50:14.313874  be296788-b2f2-1688-96a4-5497188d74e   \n",
       "\n",
       "  certification_authority  \n",
       "0           f224b774924b3  \n",
       "1           dacdbadfabdfe  \n",
       "2           2788274f4e78c  \n",
       "3           9b3ee1e62c814  \n",
       "4           fe5865f14f5fc  \n",
       "\n",
       "[5 rows x 28 columns]"
      ]
     },
     "execution_count": 8,
     "metadata": {},
     "output_type": "execute_result"
    }
   ],
   "source": [
    "df.head()"
   ]
  },
  {
   "cell_type": "code",
   "execution_count": 9,
   "id": "242ad2fc",
   "metadata": {},
   "outputs": [
    {
     "data": {
      "text/plain": [
       "sender_name\n",
       "Emisor 2CD1    1\n",
       "Emisor A642    1\n",
       "Emisor E7A3    1\n",
       "Emisor CEF3    1\n",
       "Emisor F5B6    1\n",
       "              ..\n",
       "Emisor AF2E    1\n",
       "Emisor 5921    1\n",
       "Emisor 771B    1\n",
       "Emisor 4413    1\n",
       "Emisor 4D4A    1\n",
       "Name: count, Length: 160, dtype: int64"
      ]
     },
     "execution_count": 9,
     "metadata": {},
     "output_type": "execute_result"
    }
   ],
   "source": [
    "df.sender_name.value_counts()"
   ]
  },
  {
   "cell_type": "code",
   "execution_count": 11,
   "id": "36067f7c",
   "metadata": {},
   "outputs": [
    {
     "data": {
      "text/plain": [
       "receiver_name\n",
       "Receptor F967    1\n",
       "Receptor 9264    1\n",
       "Receptor A8F6    1\n",
       "Receptor B58C    1\n",
       "Receptor 2955    1\n",
       "                ..\n",
       "Receptor E9B3    1\n",
       "Receptor C242    1\n",
       "Receptor 77B8    1\n",
       "Receptor 518C    1\n",
       "Receptor 34E8    1\n",
       "Name: count, Length: 160, dtype: int64"
      ]
     },
     "execution_count": 11,
     "metadata": {},
     "output_type": "execute_result"
    }
   ],
   "source": [
    "df.receiver_name.value_counts()"
   ]
  },
  {
   "cell_type": "code",
   "execution_count": 12,
   "id": "60229d1b",
   "metadata": {},
   "outputs": [
    {
     "data": {
      "text/plain": [
       "type\n",
       "INFLOW     86\n",
       "OUTFLOW    74\n",
       "Name: count, dtype: int64"
      ]
     },
     "execution_count": 12,
     "metadata": {},
     "output_type": "execute_result"
    }
   ],
   "source": [
    "df.type.value_counts()"
   ]
  },
  {
   "cell_type": "code",
   "execution_count": 13,
   "id": "bba0e658",
   "metadata": {},
   "outputs": [
    {
     "data": {
      "text/plain": [
       "invoice_type\n",
       "Egreso      35\n",
       "Traslado    34\n",
       "Ingreso     32\n",
       "Nómina      31\n",
       "Pago        28\n",
       "Name: count, dtype: int64"
      ]
     },
     "execution_count": 13,
     "metadata": {},
     "output_type": "execute_result"
    }
   ],
   "source": [
    "df.invoice_type.value_counts()"
   ]
  },
  {
   "cell_type": "code",
   "execution_count": 14,
   "id": "ef4cdf5f",
   "metadata": {},
   "outputs": [
    {
     "data": {
      "text/plain": [
       "('2022-01-01', '2025-08-30')"
      ]
     },
     "execution_count": 14,
     "metadata": {},
     "output_type": "execute_result"
    }
   ],
   "source": [
    "min(df.invoice_date), max(df.invoice_date)"
   ]
  },
  {
   "cell_type": "code",
   "execution_count": 15,
   "id": "f70373b3",
   "metadata": {},
   "outputs": [
    {
     "data": {
      "text/plain": [
       "payment_method\n",
       "PUE    84\n",
       "PPD    76\n",
       "Name: count, dtype: int64"
      ]
     },
     "execution_count": 15,
     "metadata": {},
     "output_type": "execute_result"
    }
   ],
   "source": [
    "df.payment_method.value_counts()"
   ]
  },
  {
   "cell_type": "markdown",
   "id": "dd4c3c84",
   "metadata": {},
   "source": [
    "# Mexican Fiscal Invoices EDA Summary\n",
    "\n",
    "## Dataset Overview\n",
    "- **Total Records**: 160 invoices\n",
    "- **Date Range**: January 1, 2022 to August 30, 2025\n",
    "- **Data Quality**: After cleaning, 28 columns with complete data (removed 9 columns with null values)\n",
    "\n",
    "## Invoice Distribution\n",
    "\n",
    "### Transaction Flow\n",
    "- **INFLOW**: 86 invoices (53.8%)\n",
    "- **OUTFLOW**: 74 invoices (46.2%)\n",
    "\n",
    "### Invoice Types\n",
    "- **Egreso**: 35 invoices (22%)\n",
    "- **Traslado**: 34 invoices (21%)\n",
    "- **Ingreso**: 32 invoices (20%)\n",
    "- **Nómina**: 31 invoices (19%)\n",
    "- **Pago**: 28 invoices (18%)\n",
    "\n",
    "### Payment Methods\n",
    "- **PUE** (Pago en una sola exhibición): 84 invoices (52.5%)\n",
    "- **PPD** (Pago en parcialidades o diferido): 76 invoices (47.5%)\n",
    "\n",
    "## Key Characteristics\n",
    "- **Unique Senders**: 160 different senders (each appears once)\n",
    "- **Unique Receivers**: 160 different receivers (each appears once)\n",
    "- **Data Completeness**: High quality dataset with consistent structure\n",
    "- **Time Span**: Covers approximately 3.5 years of fiscal activity\n",
    "\n",
    "## Business Insights\n",
    "- Balanced mix of incoming and outgoing invoices\n",
    "- Diverse invoice types covering various business operations (expenses, transfers, income, payroll, payments)\n",
    "- Even split between immediate and deferred payment methods\n",
    "- Each transaction involves unique sender-receiver pairs, suggesting diverse business relationships\n",
    "- Strong data quality with complete information for all core fields after cleaning\n",
    "\n",
    "## Technical Notes\n",
    "- Original dataset: 37 columns, reduced to 28 after removing null columns\n",
    "- All monetary amounts, dates, and identification fields are properly populated\n",
    "- Data structure is consistent and ready for further analysis or modeling"
   ]
  },
  {
   "cell_type": "markdown",
   "id": "bca53e94",
   "metadata": {},
   "source": []
  }
 ],
 "metadata": {
  "kernelspec": {
   "display_name": "belvo",
   "language": "python",
   "name": "python3"
  },
  "language_info": {
   "codemirror_mode": {
    "name": "ipython",
    "version": 3
   },
   "file_extension": ".py",
   "mimetype": "text/x-python",
   "name": "python",
   "nbconvert_exporter": "python",
   "pygments_lexer": "ipython3",
   "version": "3.12.11"
  }
 },
 "nbformat": 4,
 "nbformat_minor": 5
}
